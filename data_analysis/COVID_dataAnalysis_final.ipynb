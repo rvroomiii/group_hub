{
 "cells": [
  {
   "cell_type": "markdown",
   "id": "d9efc053",
   "metadata": {},
   "source": [
    "## Predicting COVID fatality\n",
    "\n",
    "#### Background:\n",
    "Coronavirus disease (COVID-19) is an infectious disease caused by a newly discovered coronavirus. Most people infected with COVID-19 virus will experience mild to moderate respiratory illness and recover without requiring special treatment. Older people, and those with underlying medical problems like cardiovascular disease, diabetes, chronic respiratory disease, and cancer are more likely to develop serious illness.\n",
    "\n",
    "#### Objective:\n",
    "* The main goal of this project is to build a machine learning model that, given a Covid-19 patient's current symptom, status, and medical history, will predict whether the patient is in high risk or not."
   ]
  },
  {
   "cell_type": "markdown",
   "id": "4c25ff97",
   "metadata": {},
   "source": [
    "#### Content: \n",
    "In the Boolean features, 1 means \"yes\" and 2 means \"no\". values as 97 and 99 are missing data.\n",
    "\n",
    "* sex: 1 for female and 2 for male.\n",
    "* age: of the patient. 0 for Age0-64', 1 for 'Age65-100\n",
    "* classification: covid test findings. Values 1-3 mean that the patient was diagnosed with covid in different degrees. 4 or higher means that the patient is not a carrier of covid or that the test is inconclusive.\n",
    "* patient type: type of care the patient received in the unit. 1 for returned home and 2 for hospitalization.\n",
    "* pneumonia: whether the patient already have air sacs inflammation or not.\n",
    "* pregnancy: whether the patient is pregnant or not.\n",
    "* diabetes: whether the patient has diabetes or not.\n",
    "* copd: Indicates whether the patient has Chronic obstructive pulmonary disease or not.\n",
    "* asthma: whether the patient has asthma or not.\n",
    "* inmsupr: whether the patient is immunosuppressed or not.\n",
    "* hypertension: whether the patient has hypertension or not.\n",
    "* cardiovascular: whether the patient has heart or blood vessels related disease.\n",
    "* renal chronic: whether the patient has chronic renal disease or not.\n",
    "* other disease: whether the patient has other disease or not.\n",
    "* obesity: whether the patient is obese or not.\n",
    "* tobacco: whether the patient is a tobacco user.\n",
    "* usmr: Indicates whether the patient treated medical units of the first, second or third level.\n",
    "* medical unit: type of institution of the National Health System that provided the care.\n",
    "* intubed: whether the patient was connected to the ventilator.\n",
    "* icu: Indicates whether the patient had been admitted to an Intensive Care Unit.\n",
    "* date died: If the patient died indicate the date of death, and 9999-99-99 otherwise."
   ]
  },
  {
   "cell_type": "markdown",
   "id": "df76e414",
   "metadata": {},
   "source": [
    "#### Source: https://www.kaggle.com/datasets/meirnizri/covid19-dataset"
   ]
  },
  {
   "cell_type": "markdown",
   "id": "65ab11be",
   "metadata": {},
   "source": [
    "#### =============================================================================================================="
   ]
  },
  {
   "cell_type": "code",
   "execution_count": 13,
   "id": "ef5917e5",
   "metadata": {},
   "outputs": [],
   "source": [
    "import warnings\n",
    "warnings.filterwarnings('ignore')\n",
    "\n",
    "# importing modules and packages\n",
    "import pandas as pd\n",
    "import numpy as np\n",
    "import matplotlib.pyplot as plt\n",
    "from sklearn.model_selection import train_test_split\n",
    "from sklearn.preprocessing import StandardScaler\n",
    "from sklearn.linear_model import LogisticRegression\n",
    "from sklearn.metrics import accuracy_score\n",
    "import pandas as pd\n",
    "import tensorflow as tf\n",
    "from pathlib import Path\n",
    "from sklearn import preprocessing\n",
    "from sklearn.ensemble import RandomForestClassifier\n",
    "from sklearn.svm import SVC\n",
    "from sklearn.ensemble import GradientBoostingClassifier\n",
    "from sklearn.metrics import classification_report"
   ]
  },
  {
   "cell_type": "code",
   "execution_count": 14,
   "id": "32355b65",
   "metadata": {
    "scrolled": true
   },
   "outputs": [
    {
     "data": {
      "text/html": [
       "<div>\n",
       "<style scoped>\n",
       "    .dataframe tbody tr th:only-of-type {\n",
       "        vertical-align: middle;\n",
       "    }\n",
       "\n",
       "    .dataframe tbody tr th {\n",
       "        vertical-align: top;\n",
       "    }\n",
       "\n",
       "    .dataframe thead th {\n",
       "        text-align: right;\n",
       "    }\n",
       "</style>\n",
       "<table border=\"1\" class=\"dataframe\">\n",
       "  <thead>\n",
       "    <tr style=\"text-align: right;\">\n",
       "      <th></th>\n",
       "      <th>USMER</th>\n",
       "      <th>MEDICAL_UNIT</th>\n",
       "      <th>SEX</th>\n",
       "      <th>PATIENT_TYPE</th>\n",
       "      <th>DATE_DIED</th>\n",
       "      <th>INTUBED</th>\n",
       "      <th>PNEUMONIA</th>\n",
       "      <th>AGE</th>\n",
       "      <th>PREGNANT</th>\n",
       "      <th>DIABETES</th>\n",
       "      <th>...</th>\n",
       "      <th>ASTHMA</th>\n",
       "      <th>INMSUPR</th>\n",
       "      <th>HIPERTENSION</th>\n",
       "      <th>OTHER_DISEASE</th>\n",
       "      <th>CARDIOVASCULAR</th>\n",
       "      <th>OBESITY</th>\n",
       "      <th>RENAL_CHRONIC</th>\n",
       "      <th>TOBACCO</th>\n",
       "      <th>CLASIFFICATION_FINAL</th>\n",
       "      <th>ICU</th>\n",
       "    </tr>\n",
       "  </thead>\n",
       "  <tbody>\n",
       "    <tr>\n",
       "      <th>0</th>\n",
       "      <td>2</td>\n",
       "      <td>1</td>\n",
       "      <td>1</td>\n",
       "      <td>1</td>\n",
       "      <td>03/05/2020</td>\n",
       "      <td>97</td>\n",
       "      <td>1</td>\n",
       "      <td>65</td>\n",
       "      <td>2</td>\n",
       "      <td>2</td>\n",
       "      <td>...</td>\n",
       "      <td>2</td>\n",
       "      <td>2</td>\n",
       "      <td>1</td>\n",
       "      <td>2</td>\n",
       "      <td>2</td>\n",
       "      <td>2</td>\n",
       "      <td>2</td>\n",
       "      <td>2</td>\n",
       "      <td>3</td>\n",
       "      <td>97</td>\n",
       "    </tr>\n",
       "    <tr>\n",
       "      <th>1</th>\n",
       "      <td>2</td>\n",
       "      <td>1</td>\n",
       "      <td>2</td>\n",
       "      <td>1</td>\n",
       "      <td>03/06/2020</td>\n",
       "      <td>97</td>\n",
       "      <td>1</td>\n",
       "      <td>72</td>\n",
       "      <td>97</td>\n",
       "      <td>2</td>\n",
       "      <td>...</td>\n",
       "      <td>2</td>\n",
       "      <td>2</td>\n",
       "      <td>1</td>\n",
       "      <td>2</td>\n",
       "      <td>2</td>\n",
       "      <td>1</td>\n",
       "      <td>1</td>\n",
       "      <td>2</td>\n",
       "      <td>5</td>\n",
       "      <td>97</td>\n",
       "    </tr>\n",
       "    <tr>\n",
       "      <th>2</th>\n",
       "      <td>2</td>\n",
       "      <td>1</td>\n",
       "      <td>2</td>\n",
       "      <td>2</td>\n",
       "      <td>09/06/2020</td>\n",
       "      <td>1</td>\n",
       "      <td>2</td>\n",
       "      <td>55</td>\n",
       "      <td>97</td>\n",
       "      <td>1</td>\n",
       "      <td>...</td>\n",
       "      <td>2</td>\n",
       "      <td>2</td>\n",
       "      <td>2</td>\n",
       "      <td>2</td>\n",
       "      <td>2</td>\n",
       "      <td>2</td>\n",
       "      <td>2</td>\n",
       "      <td>2</td>\n",
       "      <td>3</td>\n",
       "      <td>2</td>\n",
       "    </tr>\n",
       "    <tr>\n",
       "      <th>3</th>\n",
       "      <td>2</td>\n",
       "      <td>1</td>\n",
       "      <td>1</td>\n",
       "      <td>1</td>\n",
       "      <td>12/06/2020</td>\n",
       "      <td>97</td>\n",
       "      <td>2</td>\n",
       "      <td>53</td>\n",
       "      <td>2</td>\n",
       "      <td>2</td>\n",
       "      <td>...</td>\n",
       "      <td>2</td>\n",
       "      <td>2</td>\n",
       "      <td>2</td>\n",
       "      <td>2</td>\n",
       "      <td>2</td>\n",
       "      <td>2</td>\n",
       "      <td>2</td>\n",
       "      <td>2</td>\n",
       "      <td>7</td>\n",
       "      <td>97</td>\n",
       "    </tr>\n",
       "    <tr>\n",
       "      <th>4</th>\n",
       "      <td>2</td>\n",
       "      <td>1</td>\n",
       "      <td>2</td>\n",
       "      <td>1</td>\n",
       "      <td>21/06/2020</td>\n",
       "      <td>97</td>\n",
       "      <td>2</td>\n",
       "      <td>68</td>\n",
       "      <td>97</td>\n",
       "      <td>1</td>\n",
       "      <td>...</td>\n",
       "      <td>2</td>\n",
       "      <td>2</td>\n",
       "      <td>1</td>\n",
       "      <td>2</td>\n",
       "      <td>2</td>\n",
       "      <td>2</td>\n",
       "      <td>2</td>\n",
       "      <td>2</td>\n",
       "      <td>3</td>\n",
       "      <td>97</td>\n",
       "    </tr>\n",
       "  </tbody>\n",
       "</table>\n",
       "<p>5 rows × 21 columns</p>\n",
       "</div>"
      ],
      "text/plain": [
       "   USMER  MEDICAL_UNIT  SEX  PATIENT_TYPE   DATE_DIED  INTUBED  PNEUMONIA  \\\n",
       "0      2             1    1             1  03/05/2020       97          1   \n",
       "1      2             1    2             1  03/06/2020       97          1   \n",
       "2      2             1    2             2  09/06/2020        1          2   \n",
       "3      2             1    1             1  12/06/2020       97          2   \n",
       "4      2             1    2             1  21/06/2020       97          2   \n",
       "\n",
       "   AGE  PREGNANT  DIABETES  ...  ASTHMA  INMSUPR  HIPERTENSION  OTHER_DISEASE  \\\n",
       "0   65         2         2  ...       2        2             1              2   \n",
       "1   72        97         2  ...       2        2             1              2   \n",
       "2   55        97         1  ...       2        2             2              2   \n",
       "3   53         2         2  ...       2        2             2              2   \n",
       "4   68        97         1  ...       2        2             1              2   \n",
       "\n",
       "   CARDIOVASCULAR  OBESITY  RENAL_CHRONIC  TOBACCO  CLASIFFICATION_FINAL  ICU  \n",
       "0               2        2              2        2                     3   97  \n",
       "1               2        1              1        2                     5   97  \n",
       "2               2        2              2        2                     3    2  \n",
       "3               2        2              2        2                     7   97  \n",
       "4               2        2              2        2                     3   97  \n",
       "\n",
       "[5 rows x 21 columns]"
      ]
     },
     "execution_count": 14,
     "metadata": {},
     "output_type": "execute_result"
    }
   ],
   "source": [
    "covid_df = pd.read_csv(Path('Resource/Covid_Data.csv'))\n",
    "covid_df.head()"
   ]
  },
  {
   "cell_type": "code",
   "execution_count": 15,
   "id": "f844937e",
   "metadata": {
    "scrolled": false
   },
   "outputs": [
    {
     "data": {
      "text/html": [
       "<div>\n",
       "<style scoped>\n",
       "    .dataframe tbody tr th:only-of-type {\n",
       "        vertical-align: middle;\n",
       "    }\n",
       "\n",
       "    .dataframe tbody tr th {\n",
       "        vertical-align: top;\n",
       "    }\n",
       "\n",
       "    .dataframe thead th {\n",
       "        text-align: right;\n",
       "    }\n",
       "</style>\n",
       "<table border=\"1\" class=\"dataframe\">\n",
       "  <thead>\n",
       "    <tr style=\"text-align: right;\">\n",
       "      <th></th>\n",
       "      <th>USMER</th>\n",
       "      <th>MEDICAL_UNIT</th>\n",
       "      <th>SEX</th>\n",
       "      <th>PATIENT_TYPE</th>\n",
       "      <th>DATE_DIED</th>\n",
       "      <th>INTUBED</th>\n",
       "      <th>PNEUMONIA</th>\n",
       "      <th>AGE</th>\n",
       "      <th>PREGNANT</th>\n",
       "      <th>DIABETES</th>\n",
       "      <th>...</th>\n",
       "      <th>ASTHMA</th>\n",
       "      <th>INMSUPR</th>\n",
       "      <th>HIPERTENSION</th>\n",
       "      <th>OTHER_DISEASE</th>\n",
       "      <th>CARDIOVASCULAR</th>\n",
       "      <th>OBESITY</th>\n",
       "      <th>RENAL_CHRONIC</th>\n",
       "      <th>TOBACCO</th>\n",
       "      <th>CLASIFFICATION_FINAL</th>\n",
       "      <th>ICU</th>\n",
       "    </tr>\n",
       "  </thead>\n",
       "  <tbody>\n",
       "    <tr>\n",
       "      <th>0</th>\n",
       "      <td>2</td>\n",
       "      <td>1</td>\n",
       "      <td>1</td>\n",
       "      <td>1</td>\n",
       "      <td>1</td>\n",
       "      <td>97</td>\n",
       "      <td>1</td>\n",
       "      <td>65</td>\n",
       "      <td>2</td>\n",
       "      <td>2</td>\n",
       "      <td>...</td>\n",
       "      <td>2</td>\n",
       "      <td>2</td>\n",
       "      <td>1</td>\n",
       "      <td>2</td>\n",
       "      <td>2</td>\n",
       "      <td>2</td>\n",
       "      <td>2</td>\n",
       "      <td>2</td>\n",
       "      <td>3</td>\n",
       "      <td>97</td>\n",
       "    </tr>\n",
       "    <tr>\n",
       "      <th>1</th>\n",
       "      <td>2</td>\n",
       "      <td>1</td>\n",
       "      <td>2</td>\n",
       "      <td>1</td>\n",
       "      <td>1</td>\n",
       "      <td>97</td>\n",
       "      <td>1</td>\n",
       "      <td>72</td>\n",
       "      <td>97</td>\n",
       "      <td>2</td>\n",
       "      <td>...</td>\n",
       "      <td>2</td>\n",
       "      <td>2</td>\n",
       "      <td>1</td>\n",
       "      <td>2</td>\n",
       "      <td>2</td>\n",
       "      <td>1</td>\n",
       "      <td>1</td>\n",
       "      <td>2</td>\n",
       "      <td>5</td>\n",
       "      <td>97</td>\n",
       "    </tr>\n",
       "    <tr>\n",
       "      <th>2</th>\n",
       "      <td>2</td>\n",
       "      <td>1</td>\n",
       "      <td>2</td>\n",
       "      <td>2</td>\n",
       "      <td>1</td>\n",
       "      <td>1</td>\n",
       "      <td>2</td>\n",
       "      <td>55</td>\n",
       "      <td>97</td>\n",
       "      <td>1</td>\n",
       "      <td>...</td>\n",
       "      <td>2</td>\n",
       "      <td>2</td>\n",
       "      <td>2</td>\n",
       "      <td>2</td>\n",
       "      <td>2</td>\n",
       "      <td>2</td>\n",
       "      <td>2</td>\n",
       "      <td>2</td>\n",
       "      <td>3</td>\n",
       "      <td>2</td>\n",
       "    </tr>\n",
       "    <tr>\n",
       "      <th>3</th>\n",
       "      <td>2</td>\n",
       "      <td>1</td>\n",
       "      <td>1</td>\n",
       "      <td>1</td>\n",
       "      <td>1</td>\n",
       "      <td>97</td>\n",
       "      <td>2</td>\n",
       "      <td>53</td>\n",
       "      <td>2</td>\n",
       "      <td>2</td>\n",
       "      <td>...</td>\n",
       "      <td>2</td>\n",
       "      <td>2</td>\n",
       "      <td>2</td>\n",
       "      <td>2</td>\n",
       "      <td>2</td>\n",
       "      <td>2</td>\n",
       "      <td>2</td>\n",
       "      <td>2</td>\n",
       "      <td>7</td>\n",
       "      <td>97</td>\n",
       "    </tr>\n",
       "    <tr>\n",
       "      <th>4</th>\n",
       "      <td>2</td>\n",
       "      <td>1</td>\n",
       "      <td>2</td>\n",
       "      <td>1</td>\n",
       "      <td>1</td>\n",
       "      <td>97</td>\n",
       "      <td>2</td>\n",
       "      <td>68</td>\n",
       "      <td>97</td>\n",
       "      <td>1</td>\n",
       "      <td>...</td>\n",
       "      <td>2</td>\n",
       "      <td>2</td>\n",
       "      <td>1</td>\n",
       "      <td>2</td>\n",
       "      <td>2</td>\n",
       "      <td>2</td>\n",
       "      <td>2</td>\n",
       "      <td>2</td>\n",
       "      <td>3</td>\n",
       "      <td>97</td>\n",
       "    </tr>\n",
       "    <tr>\n",
       "      <th>...</th>\n",
       "      <td>...</td>\n",
       "      <td>...</td>\n",
       "      <td>...</td>\n",
       "      <td>...</td>\n",
       "      <td>...</td>\n",
       "      <td>...</td>\n",
       "      <td>...</td>\n",
       "      <td>...</td>\n",
       "      <td>...</td>\n",
       "      <td>...</td>\n",
       "      <td>...</td>\n",
       "      <td>...</td>\n",
       "      <td>...</td>\n",
       "      <td>...</td>\n",
       "      <td>...</td>\n",
       "      <td>...</td>\n",
       "      <td>...</td>\n",
       "      <td>...</td>\n",
       "      <td>...</td>\n",
       "      <td>...</td>\n",
       "      <td>...</td>\n",
       "    </tr>\n",
       "    <tr>\n",
       "      <th>1048570</th>\n",
       "      <td>2</td>\n",
       "      <td>13</td>\n",
       "      <td>2</td>\n",
       "      <td>1</td>\n",
       "      <td>0</td>\n",
       "      <td>97</td>\n",
       "      <td>2</td>\n",
       "      <td>40</td>\n",
       "      <td>97</td>\n",
       "      <td>2</td>\n",
       "      <td>...</td>\n",
       "      <td>2</td>\n",
       "      <td>2</td>\n",
       "      <td>2</td>\n",
       "      <td>2</td>\n",
       "      <td>2</td>\n",
       "      <td>2</td>\n",
       "      <td>2</td>\n",
       "      <td>2</td>\n",
       "      <td>7</td>\n",
       "      <td>97</td>\n",
       "    </tr>\n",
       "    <tr>\n",
       "      <th>1048571</th>\n",
       "      <td>1</td>\n",
       "      <td>13</td>\n",
       "      <td>2</td>\n",
       "      <td>2</td>\n",
       "      <td>0</td>\n",
       "      <td>2</td>\n",
       "      <td>2</td>\n",
       "      <td>51</td>\n",
       "      <td>97</td>\n",
       "      <td>2</td>\n",
       "      <td>...</td>\n",
       "      <td>2</td>\n",
       "      <td>2</td>\n",
       "      <td>1</td>\n",
       "      <td>2</td>\n",
       "      <td>2</td>\n",
       "      <td>2</td>\n",
       "      <td>2</td>\n",
       "      <td>2</td>\n",
       "      <td>7</td>\n",
       "      <td>2</td>\n",
       "    </tr>\n",
       "    <tr>\n",
       "      <th>1048572</th>\n",
       "      <td>2</td>\n",
       "      <td>13</td>\n",
       "      <td>2</td>\n",
       "      <td>1</td>\n",
       "      <td>0</td>\n",
       "      <td>97</td>\n",
       "      <td>2</td>\n",
       "      <td>55</td>\n",
       "      <td>97</td>\n",
       "      <td>2</td>\n",
       "      <td>...</td>\n",
       "      <td>2</td>\n",
       "      <td>2</td>\n",
       "      <td>2</td>\n",
       "      <td>2</td>\n",
       "      <td>2</td>\n",
       "      <td>2</td>\n",
       "      <td>2</td>\n",
       "      <td>2</td>\n",
       "      <td>7</td>\n",
       "      <td>97</td>\n",
       "    </tr>\n",
       "    <tr>\n",
       "      <th>1048573</th>\n",
       "      <td>2</td>\n",
       "      <td>13</td>\n",
       "      <td>2</td>\n",
       "      <td>1</td>\n",
       "      <td>0</td>\n",
       "      <td>97</td>\n",
       "      <td>2</td>\n",
       "      <td>28</td>\n",
       "      <td>97</td>\n",
       "      <td>2</td>\n",
       "      <td>...</td>\n",
       "      <td>2</td>\n",
       "      <td>2</td>\n",
       "      <td>2</td>\n",
       "      <td>2</td>\n",
       "      <td>2</td>\n",
       "      <td>2</td>\n",
       "      <td>2</td>\n",
       "      <td>2</td>\n",
       "      <td>7</td>\n",
       "      <td>97</td>\n",
       "    </tr>\n",
       "    <tr>\n",
       "      <th>1048574</th>\n",
       "      <td>2</td>\n",
       "      <td>13</td>\n",
       "      <td>2</td>\n",
       "      <td>1</td>\n",
       "      <td>0</td>\n",
       "      <td>97</td>\n",
       "      <td>2</td>\n",
       "      <td>52</td>\n",
       "      <td>97</td>\n",
       "      <td>2</td>\n",
       "      <td>...</td>\n",
       "      <td>2</td>\n",
       "      <td>2</td>\n",
       "      <td>2</td>\n",
       "      <td>2</td>\n",
       "      <td>2</td>\n",
       "      <td>2</td>\n",
       "      <td>2</td>\n",
       "      <td>2</td>\n",
       "      <td>7</td>\n",
       "      <td>97</td>\n",
       "    </tr>\n",
       "  </tbody>\n",
       "</table>\n",
       "<p>1048575 rows × 21 columns</p>\n",
       "</div>"
      ],
      "text/plain": [
       "         USMER  MEDICAL_UNIT  SEX  PATIENT_TYPE DATE_DIED  INTUBED  PNEUMONIA  \\\n",
       "0            2             1    1             1         1       97          1   \n",
       "1            2             1    2             1         1       97          1   \n",
       "2            2             1    2             2         1        1          2   \n",
       "3            2             1    1             1         1       97          2   \n",
       "4            2             1    2             1         1       97          2   \n",
       "...        ...           ...  ...           ...       ...      ...        ...   \n",
       "1048570      2            13    2             1         0       97          2   \n",
       "1048571      1            13    2             2         0        2          2   \n",
       "1048572      2            13    2             1         0       97          2   \n",
       "1048573      2            13    2             1         0       97          2   \n",
       "1048574      2            13    2             1         0       97          2   \n",
       "\n",
       "         AGE  PREGNANT  DIABETES  ...  ASTHMA  INMSUPR  HIPERTENSION  \\\n",
       "0         65         2         2  ...       2        2             1   \n",
       "1         72        97         2  ...       2        2             1   \n",
       "2         55        97         1  ...       2        2             2   \n",
       "3         53         2         2  ...       2        2             2   \n",
       "4         68        97         1  ...       2        2             1   \n",
       "...      ...       ...       ...  ...     ...      ...           ...   \n",
       "1048570   40        97         2  ...       2        2             2   \n",
       "1048571   51        97         2  ...       2        2             1   \n",
       "1048572   55        97         2  ...       2        2             2   \n",
       "1048573   28        97         2  ...       2        2             2   \n",
       "1048574   52        97         2  ...       2        2             2   \n",
       "\n",
       "         OTHER_DISEASE  CARDIOVASCULAR  OBESITY  RENAL_CHRONIC  TOBACCO  \\\n",
       "0                    2               2        2              2        2   \n",
       "1                    2               2        1              1        2   \n",
       "2                    2               2        2              2        2   \n",
       "3                    2               2        2              2        2   \n",
       "4                    2               2        2              2        2   \n",
       "...                ...             ...      ...            ...      ...   \n",
       "1048570              2               2        2              2        2   \n",
       "1048571              2               2        2              2        2   \n",
       "1048572              2               2        2              2        2   \n",
       "1048573              2               2        2              2        2   \n",
       "1048574              2               2        2              2        2   \n",
       "\n",
       "         CLASIFFICATION_FINAL  ICU  \n",
       "0                           3   97  \n",
       "1                           5   97  \n",
       "2                           3    2  \n",
       "3                           7   97  \n",
       "4                           3   97  \n",
       "...                       ...  ...  \n",
       "1048570                     7   97  \n",
       "1048571                     7    2  \n",
       "1048572                     7   97  \n",
       "1048573                     7   97  \n",
       "1048574                     7   97  \n",
       "\n",
       "[1048575 rows x 21 columns]"
      ]
     },
     "execution_count": 15,
     "metadata": {},
     "output_type": "execute_result"
    }
   ],
   "source": [
    "# Applying the condition-Outcome column\n",
    "covid_df['DATE_DIED'] = ['0' if DATE_DIED == '9999-99-99' else '1' for DATE_DIED in covid_df['DATE_DIED']]\n",
    "covid_df"
   ]
  },
  {
   "cell_type": "code",
   "execution_count": 16,
   "id": "2e38919d",
   "metadata": {
    "scrolled": true
   },
   "outputs": [
    {
     "data": {
      "text/plain": [
       "['DATE_DIED']"
      ]
     },
     "execution_count": 16,
     "metadata": {},
     "output_type": "execute_result"
    }
   ],
   "source": [
    "# Generate our categorical variable list\n",
    "covid_df.dtypes[covid_df.dtypes == \"object\"].index.tolist()"
   ]
  },
  {
   "cell_type": "code",
   "execution_count": 17,
   "id": "5a935a67",
   "metadata": {},
   "outputs": [
    {
     "data": {
      "text/plain": [
       "USMER                   0\n",
       "MEDICAL_UNIT            0\n",
       "SEX                     0\n",
       "PATIENT_TYPE            0\n",
       "DATE_DIED               0\n",
       "INTUBED                 0\n",
       "PNEUMONIA               0\n",
       "AGE                     0\n",
       "PREGNANT                0\n",
       "DIABETES                0\n",
       "COPD                    0\n",
       "ASTHMA                  0\n",
       "INMSUPR                 0\n",
       "HIPERTENSION            0\n",
       "OTHER_DISEASE           0\n",
       "CARDIOVASCULAR          0\n",
       "OBESITY                 0\n",
       "RENAL_CHRONIC           0\n",
       "TOBACCO                 0\n",
       "CLASIFFICATION_FINAL    0\n",
       "ICU                     0\n",
       "dtype: int64"
      ]
     },
     "execution_count": 17,
     "metadata": {},
     "output_type": "execute_result"
    }
   ],
   "source": [
    "# check null values\n",
    "covid_df.isna().sum()"
   ]
  },
  {
   "cell_type": "code",
   "execution_count": 18,
   "id": "090ac85e",
   "metadata": {},
   "outputs": [],
   "source": [
    "# Drop NA values(values>2)and column with too many missing values\n",
    "covid_df = covid_df.drop(covid_df[covid_df[\"PREGNANT\"] > 2].index)\n",
    "covid_df = covid_df.drop(covid_df[covid_df[\"CLASIFFICATION_FINAL\"] >= 4].index)\n",
    "covid_df = covid_df.drop(covid_df[covid_df[\"AGE\"] >= 110].index)\n",
    "covid_df = covid_df.drop(covid_df[covid_df[\"PNEUMONIA\"] > 2].index)\n",
    "covid_df = covid_df.drop(covid_df[covid_df[\"DIABETES\"] > 2].index)\n",
    "covid_df = covid_df.drop(covid_df[covid_df[\"COPD\"] > 2].index)\n",
    "covid_df = covid_df.drop(covid_df[covid_df[\"ASTHMA\"] > 2].index)\n",
    "covid_df = covid_df.drop(covid_df[covid_df[\"INMSUPR\"] > 2].index)\n",
    "covid_df = covid_df.drop(covid_df[covid_df[\"HIPERTENSION\"] > 2].index)\n",
    "covid_df = covid_df.drop(covid_df[covid_df[\"OTHER_DISEASE\"] > 2].index)\n",
    "covid_df = covid_df.drop(covid_df[covid_df[\"CARDIOVASCULAR\"] > 2].index)\n",
    "covid_df = covid_df.drop(covid_df[covid_df[\"OBESITY\"] > 2].index)\n",
    "covid_df = covid_df.drop(covid_df[covid_df[\"RENAL_CHRONIC\"] > 2].index)\n",
    "covid_df = covid_df.drop(covid_df[covid_df[\"TOBACCO\"] > 2].index)"
   ]
  },
  {
   "cell_type": "code",
   "execution_count": 19,
   "id": "76a74408",
   "metadata": {
    "scrolled": false
   },
   "outputs": [
    {
     "data": {
      "text/html": [
       "<div>\n",
       "<style scoped>\n",
       "    .dataframe tbody tr th:only-of-type {\n",
       "        vertical-align: middle;\n",
       "    }\n",
       "\n",
       "    .dataframe tbody tr th {\n",
       "        vertical-align: top;\n",
       "    }\n",
       "\n",
       "    .dataframe thead th {\n",
       "        text-align: right;\n",
       "    }\n",
       "</style>\n",
       "<table border=\"1\" class=\"dataframe\">\n",
       "  <thead>\n",
       "    <tr style=\"text-align: right;\">\n",
       "      <th></th>\n",
       "      <th>SEX</th>\n",
       "      <th>DATE_DIED</th>\n",
       "      <th>PNEUMONIA</th>\n",
       "      <th>AGE</th>\n",
       "      <th>PREGNANT</th>\n",
       "      <th>DIABETES</th>\n",
       "      <th>COPD</th>\n",
       "      <th>ASTHMA</th>\n",
       "      <th>INMSUPR</th>\n",
       "      <th>HIPERTENSION</th>\n",
       "      <th>OTHER_DISEASE</th>\n",
       "      <th>CARDIOVASCULAR</th>\n",
       "      <th>OBESITY</th>\n",
       "      <th>RENAL_CHRONIC</th>\n",
       "      <th>TOBACCO</th>\n",
       "    </tr>\n",
       "  </thead>\n",
       "  <tbody>\n",
       "    <tr>\n",
       "      <th>0</th>\n",
       "      <td>1</td>\n",
       "      <td>1</td>\n",
       "      <td>1</td>\n",
       "      <td>65</td>\n",
       "      <td>2</td>\n",
       "      <td>2</td>\n",
       "      <td>2</td>\n",
       "      <td>2</td>\n",
       "      <td>2</td>\n",
       "      <td>1</td>\n",
       "      <td>2</td>\n",
       "      <td>2</td>\n",
       "      <td>2</td>\n",
       "      <td>2</td>\n",
       "      <td>2</td>\n",
       "    </tr>\n",
       "    <tr>\n",
       "      <th>5</th>\n",
       "      <td>1</td>\n",
       "      <td>0</td>\n",
       "      <td>1</td>\n",
       "      <td>40</td>\n",
       "      <td>2</td>\n",
       "      <td>2</td>\n",
       "      <td>2</td>\n",
       "      <td>2</td>\n",
       "      <td>2</td>\n",
       "      <td>2</td>\n",
       "      <td>2</td>\n",
       "      <td>2</td>\n",
       "      <td>2</td>\n",
       "      <td>2</td>\n",
       "      <td>2</td>\n",
       "    </tr>\n",
       "    <tr>\n",
       "      <th>6</th>\n",
       "      <td>1</td>\n",
       "      <td>0</td>\n",
       "      <td>2</td>\n",
       "      <td>64</td>\n",
       "      <td>2</td>\n",
       "      <td>2</td>\n",
       "      <td>2</td>\n",
       "      <td>2</td>\n",
       "      <td>2</td>\n",
       "      <td>2</td>\n",
       "      <td>2</td>\n",
       "      <td>2</td>\n",
       "      <td>2</td>\n",
       "      <td>2</td>\n",
       "      <td>2</td>\n",
       "    </tr>\n",
       "    <tr>\n",
       "      <th>7</th>\n",
       "      <td>1</td>\n",
       "      <td>0</td>\n",
       "      <td>1</td>\n",
       "      <td>64</td>\n",
       "      <td>2</td>\n",
       "      <td>1</td>\n",
       "      <td>2</td>\n",
       "      <td>2</td>\n",
       "      <td>1</td>\n",
       "      <td>1</td>\n",
       "      <td>2</td>\n",
       "      <td>2</td>\n",
       "      <td>2</td>\n",
       "      <td>1</td>\n",
       "      <td>2</td>\n",
       "    </tr>\n",
       "    <tr>\n",
       "      <th>8</th>\n",
       "      <td>1</td>\n",
       "      <td>0</td>\n",
       "      <td>2</td>\n",
       "      <td>37</td>\n",
       "      <td>2</td>\n",
       "      <td>1</td>\n",
       "      <td>2</td>\n",
       "      <td>2</td>\n",
       "      <td>2</td>\n",
       "      <td>1</td>\n",
       "      <td>2</td>\n",
       "      <td>2</td>\n",
       "      <td>1</td>\n",
       "      <td>2</td>\n",
       "      <td>2</td>\n",
       "    </tr>\n",
       "    <tr>\n",
       "      <th>...</th>\n",
       "      <td>...</td>\n",
       "      <td>...</td>\n",
       "      <td>...</td>\n",
       "      <td>...</td>\n",
       "      <td>...</td>\n",
       "      <td>...</td>\n",
       "      <td>...</td>\n",
       "      <td>...</td>\n",
       "      <td>...</td>\n",
       "      <td>...</td>\n",
       "      <td>...</td>\n",
       "      <td>...</td>\n",
       "      <td>...</td>\n",
       "      <td>...</td>\n",
       "      <td>...</td>\n",
       "    </tr>\n",
       "    <tr>\n",
       "      <th>1047931</th>\n",
       "      <td>1</td>\n",
       "      <td>0</td>\n",
       "      <td>2</td>\n",
       "      <td>48</td>\n",
       "      <td>2</td>\n",
       "      <td>2</td>\n",
       "      <td>2</td>\n",
       "      <td>2</td>\n",
       "      <td>2</td>\n",
       "      <td>2</td>\n",
       "      <td>2</td>\n",
       "      <td>2</td>\n",
       "      <td>1</td>\n",
       "      <td>2</td>\n",
       "      <td>2</td>\n",
       "    </tr>\n",
       "    <tr>\n",
       "      <th>1047932</th>\n",
       "      <td>1</td>\n",
       "      <td>0</td>\n",
       "      <td>2</td>\n",
       "      <td>67</td>\n",
       "      <td>2</td>\n",
       "      <td>2</td>\n",
       "      <td>2</td>\n",
       "      <td>2</td>\n",
       "      <td>1</td>\n",
       "      <td>2</td>\n",
       "      <td>2</td>\n",
       "      <td>2</td>\n",
       "      <td>2</td>\n",
       "      <td>2</td>\n",
       "      <td>2</td>\n",
       "    </tr>\n",
       "    <tr>\n",
       "      <th>1047933</th>\n",
       "      <td>1</td>\n",
       "      <td>0</td>\n",
       "      <td>2</td>\n",
       "      <td>77</td>\n",
       "      <td>2</td>\n",
       "      <td>1</td>\n",
       "      <td>2</td>\n",
       "      <td>2</td>\n",
       "      <td>1</td>\n",
       "      <td>1</td>\n",
       "      <td>2</td>\n",
       "      <td>2</td>\n",
       "      <td>2</td>\n",
       "      <td>2</td>\n",
       "      <td>2</td>\n",
       "    </tr>\n",
       "    <tr>\n",
       "      <th>1047934</th>\n",
       "      <td>1</td>\n",
       "      <td>0</td>\n",
       "      <td>2</td>\n",
       "      <td>55</td>\n",
       "      <td>2</td>\n",
       "      <td>1</td>\n",
       "      <td>2</td>\n",
       "      <td>2</td>\n",
       "      <td>2</td>\n",
       "      <td>2</td>\n",
       "      <td>2</td>\n",
       "      <td>2</td>\n",
       "      <td>2</td>\n",
       "      <td>2</td>\n",
       "      <td>2</td>\n",
       "    </tr>\n",
       "    <tr>\n",
       "      <th>1047937</th>\n",
       "      <td>1</td>\n",
       "      <td>0</td>\n",
       "      <td>2</td>\n",
       "      <td>30</td>\n",
       "      <td>2</td>\n",
       "      <td>2</td>\n",
       "      <td>2</td>\n",
       "      <td>2</td>\n",
       "      <td>2</td>\n",
       "      <td>2</td>\n",
       "      <td>2</td>\n",
       "      <td>2</td>\n",
       "      <td>2</td>\n",
       "      <td>2</td>\n",
       "      <td>2</td>\n",
       "    </tr>\n",
       "  </tbody>\n",
       "</table>\n",
       "<p>180002 rows × 15 columns</p>\n",
       "</div>"
      ],
      "text/plain": [
       "         SEX DATE_DIED  PNEUMONIA  AGE  PREGNANT  DIABETES  COPD  ASTHMA  \\\n",
       "0          1         1          1   65         2         2     2       2   \n",
       "5          1         0          1   40         2         2     2       2   \n",
       "6          1         0          2   64         2         2     2       2   \n",
       "7          1         0          1   64         2         1     2       2   \n",
       "8          1         0          2   37         2         1     2       2   \n",
       "...      ...       ...        ...  ...       ...       ...   ...     ...   \n",
       "1047931    1         0          2   48         2         2     2       2   \n",
       "1047932    1         0          2   67         2         2     2       2   \n",
       "1047933    1         0          2   77         2         1     2       2   \n",
       "1047934    1         0          2   55         2         1     2       2   \n",
       "1047937    1         0          2   30         2         2     2       2   \n",
       "\n",
       "         INMSUPR  HIPERTENSION  OTHER_DISEASE  CARDIOVASCULAR  OBESITY  \\\n",
       "0              2             1              2               2        2   \n",
       "5              2             2              2               2        2   \n",
       "6              2             2              2               2        2   \n",
       "7              1             1              2               2        2   \n",
       "8              2             1              2               2        1   \n",
       "...          ...           ...            ...             ...      ...   \n",
       "1047931        2             2              2               2        1   \n",
       "1047932        1             2              2               2        2   \n",
       "1047933        1             1              2               2        2   \n",
       "1047934        2             2              2               2        2   \n",
       "1047937        2             2              2               2        2   \n",
       "\n",
       "         RENAL_CHRONIC  TOBACCO  \n",
       "0                    2        2  \n",
       "5                    2        2  \n",
       "6                    2        2  \n",
       "7                    1        2  \n",
       "8                    2        2  \n",
       "...                ...      ...  \n",
       "1047931              2        2  \n",
       "1047932              2        2  \n",
       "1047933              2        2  \n",
       "1047934              2        2  \n",
       "1047937              2        2  \n",
       "\n",
       "[180002 rows x 15 columns]"
      ]
     },
     "execution_count": 19,
     "metadata": {},
     "output_type": "execute_result"
    }
   ],
   "source": [
    "# Drop features with least importance\n",
    "covid_df = covid_df.drop([\"INTUBED\",\"ICU\",\"MEDICAL_UNIT\",\"USMER\",\"PATIENT_TYPE\",\"CLASIFFICATION_FINAL\"], axis = 1)\n",
    "covid_df"
   ]
  },
  {
   "cell_type": "code",
   "execution_count": 20,
   "id": "fd344a2b",
   "metadata": {},
   "outputs": [
    {
     "data": {
      "text/plain": [
       "array(['SEX', 'DATE_DIED', 'PNEUMONIA', 'AGE', 'PREGNANT', 'DIABETES',\n",
       "       'COPD', 'ASTHMA', 'INMSUPR', 'HIPERTENSION', 'OTHER_DISEASE',\n",
       "       'CARDIOVASCULAR', 'OBESITY', 'RENAL_CHRONIC', 'TOBACCO'],\n",
       "      dtype=object)"
      ]
     },
     "execution_count": 20,
     "metadata": {},
     "output_type": "execute_result"
    }
   ],
   "source": [
    "# Column values\n",
    "covid_df.columns.values "
   ]
  },
  {
   "cell_type": "code",
   "execution_count": 21,
   "id": "23d435eb",
   "metadata": {},
   "outputs": [
    {
     "data": {
      "text/plain": [
       "SEX                int64\n",
       "DATE_DIED         object\n",
       "PNEUMONIA          int64\n",
       "AGE                int64\n",
       "PREGNANT           int64\n",
       "DIABETES           int64\n",
       "COPD               int64\n",
       "ASTHMA             int64\n",
       "INMSUPR            int64\n",
       "HIPERTENSION       int64\n",
       "OTHER_DISEASE      int64\n",
       "CARDIOVASCULAR     int64\n",
       "OBESITY            int64\n",
       "RENAL_CHRONIC      int64\n",
       "TOBACCO            int64\n",
       "dtype: object"
      ]
     },
     "execution_count": 21,
     "metadata": {},
     "output_type": "execute_result"
    }
   ],
   "source": [
    "# checking the dtypes\n",
    "covid_df.dtypes"
   ]
  },
  {
   "cell_type": "code",
   "execution_count": 22,
   "id": "c52c5482",
   "metadata": {},
   "outputs": [],
   "source": [
    "# 'object' & \"cat.\" to 'int' type. \n",
    "covid_df['DATE_DIED'] = covid_df['DATE_DIED'].astype(int)"
   ]
  },
  {
   "cell_type": "code",
   "execution_count": 23,
   "id": "ab251d18",
   "metadata": {},
   "outputs": [],
   "source": [
    "# Save CSV file\n",
    "#covid_df.to_csv('cleaned_covid_data.csv', index = False)"
   ]
  },
  {
   "cell_type": "markdown",
   "id": "adaa8a6b",
   "metadata": {},
   "source": [
    "# ============================================================"
   ]
  },
  {
   "cell_type": "markdown",
   "id": "2c375d6d",
   "metadata": {},
   "source": [
    "### Age Groups"
   ]
  },
  {
   "cell_type": "code",
   "execution_count": 24,
   "id": "2c46f5db",
   "metadata": {},
   "outputs": [],
   "source": [
    "# create a list of our conditions\n",
    "conditions = [\n",
    "    (covid_df[\"AGE\"]> 0) & (covid_df[\"AGE\"] < 65),\n",
    "    (covid_df[\"AGE\"]> 64) & (covid_df[\"AGE\"] < 110)\n",
    "    ]\n",
    "\n",
    "# create a list of the values we want to assign for each condition\n",
    "values = ['0-64', '65-100']\n",
    "\n",
    "# create a new column and use np.select to assign values to it using our lists as arguments\n",
    "covid_df['AGE_GROUP'] = np.select(conditions, values)"
   ]
  },
  {
   "cell_type": "code",
   "execution_count": 25,
   "id": "ed417f35",
   "metadata": {},
   "outputs": [],
   "source": [
    "# Binary encoding using Pandas (single column)\n",
    "covid_df = pd.get_dummies(covid_df, columns=[\"AGE_GROUP\"])"
   ]
  },
  {
   "cell_type": "code",
   "execution_count": 26,
   "id": "b492a459",
   "metadata": {},
   "outputs": [
    {
     "data": {
      "text/html": [
       "<div>\n",
       "<style scoped>\n",
       "    .dataframe tbody tr th:only-of-type {\n",
       "        vertical-align: middle;\n",
       "    }\n",
       "\n",
       "    .dataframe tbody tr th {\n",
       "        vertical-align: top;\n",
       "    }\n",
       "\n",
       "    .dataframe thead th {\n",
       "        text-align: right;\n",
       "    }\n",
       "</style>\n",
       "<table border=\"1\" class=\"dataframe\">\n",
       "  <thead>\n",
       "    <tr style=\"text-align: right;\">\n",
       "      <th></th>\n",
       "      <th>SEX</th>\n",
       "      <th>DATE_DIED</th>\n",
       "      <th>PNEUMONIA</th>\n",
       "      <th>PREGNANT</th>\n",
       "      <th>DIABETES</th>\n",
       "      <th>COPD</th>\n",
       "      <th>ASTHMA</th>\n",
       "      <th>INMSUPR</th>\n",
       "      <th>HIPERTENSION</th>\n",
       "      <th>OTHER_DISEASE</th>\n",
       "      <th>CARDIOVASCULAR</th>\n",
       "      <th>OBESITY</th>\n",
       "      <th>RENAL_CHRONIC</th>\n",
       "      <th>TOBACCO</th>\n",
       "      <th>AGE_GROUP_0-64</th>\n",
       "      <th>AGE_GROUP_65-100</th>\n",
       "    </tr>\n",
       "  </thead>\n",
       "  <tbody>\n",
       "    <tr>\n",
       "      <th>0</th>\n",
       "      <td>1</td>\n",
       "      <td>1</td>\n",
       "      <td>1</td>\n",
       "      <td>2</td>\n",
       "      <td>2</td>\n",
       "      <td>2</td>\n",
       "      <td>2</td>\n",
       "      <td>2</td>\n",
       "      <td>1</td>\n",
       "      <td>2</td>\n",
       "      <td>2</td>\n",
       "      <td>2</td>\n",
       "      <td>2</td>\n",
       "      <td>2</td>\n",
       "      <td>0</td>\n",
       "      <td>1</td>\n",
       "    </tr>\n",
       "    <tr>\n",
       "      <th>5</th>\n",
       "      <td>1</td>\n",
       "      <td>0</td>\n",
       "      <td>1</td>\n",
       "      <td>2</td>\n",
       "      <td>2</td>\n",
       "      <td>2</td>\n",
       "      <td>2</td>\n",
       "      <td>2</td>\n",
       "      <td>2</td>\n",
       "      <td>2</td>\n",
       "      <td>2</td>\n",
       "      <td>2</td>\n",
       "      <td>2</td>\n",
       "      <td>2</td>\n",
       "      <td>1</td>\n",
       "      <td>0</td>\n",
       "    </tr>\n",
       "    <tr>\n",
       "      <th>6</th>\n",
       "      <td>1</td>\n",
       "      <td>0</td>\n",
       "      <td>2</td>\n",
       "      <td>2</td>\n",
       "      <td>2</td>\n",
       "      <td>2</td>\n",
       "      <td>2</td>\n",
       "      <td>2</td>\n",
       "      <td>2</td>\n",
       "      <td>2</td>\n",
       "      <td>2</td>\n",
       "      <td>2</td>\n",
       "      <td>2</td>\n",
       "      <td>2</td>\n",
       "      <td>1</td>\n",
       "      <td>0</td>\n",
       "    </tr>\n",
       "    <tr>\n",
       "      <th>7</th>\n",
       "      <td>1</td>\n",
       "      <td>0</td>\n",
       "      <td>1</td>\n",
       "      <td>2</td>\n",
       "      <td>1</td>\n",
       "      <td>2</td>\n",
       "      <td>2</td>\n",
       "      <td>1</td>\n",
       "      <td>1</td>\n",
       "      <td>2</td>\n",
       "      <td>2</td>\n",
       "      <td>2</td>\n",
       "      <td>1</td>\n",
       "      <td>2</td>\n",
       "      <td>1</td>\n",
       "      <td>0</td>\n",
       "    </tr>\n",
       "    <tr>\n",
       "      <th>8</th>\n",
       "      <td>1</td>\n",
       "      <td>0</td>\n",
       "      <td>2</td>\n",
       "      <td>2</td>\n",
       "      <td>1</td>\n",
       "      <td>2</td>\n",
       "      <td>2</td>\n",
       "      <td>2</td>\n",
       "      <td>1</td>\n",
       "      <td>2</td>\n",
       "      <td>2</td>\n",
       "      <td>1</td>\n",
       "      <td>2</td>\n",
       "      <td>2</td>\n",
       "      <td>1</td>\n",
       "      <td>0</td>\n",
       "    </tr>\n",
       "    <tr>\n",
       "      <th>...</th>\n",
       "      <td>...</td>\n",
       "      <td>...</td>\n",
       "      <td>...</td>\n",
       "      <td>...</td>\n",
       "      <td>...</td>\n",
       "      <td>...</td>\n",
       "      <td>...</td>\n",
       "      <td>...</td>\n",
       "      <td>...</td>\n",
       "      <td>...</td>\n",
       "      <td>...</td>\n",
       "      <td>...</td>\n",
       "      <td>...</td>\n",
       "      <td>...</td>\n",
       "      <td>...</td>\n",
       "      <td>...</td>\n",
       "    </tr>\n",
       "    <tr>\n",
       "      <th>1047931</th>\n",
       "      <td>1</td>\n",
       "      <td>0</td>\n",
       "      <td>2</td>\n",
       "      <td>2</td>\n",
       "      <td>2</td>\n",
       "      <td>2</td>\n",
       "      <td>2</td>\n",
       "      <td>2</td>\n",
       "      <td>2</td>\n",
       "      <td>2</td>\n",
       "      <td>2</td>\n",
       "      <td>1</td>\n",
       "      <td>2</td>\n",
       "      <td>2</td>\n",
       "      <td>1</td>\n",
       "      <td>0</td>\n",
       "    </tr>\n",
       "    <tr>\n",
       "      <th>1047932</th>\n",
       "      <td>1</td>\n",
       "      <td>0</td>\n",
       "      <td>2</td>\n",
       "      <td>2</td>\n",
       "      <td>2</td>\n",
       "      <td>2</td>\n",
       "      <td>2</td>\n",
       "      <td>1</td>\n",
       "      <td>2</td>\n",
       "      <td>2</td>\n",
       "      <td>2</td>\n",
       "      <td>2</td>\n",
       "      <td>2</td>\n",
       "      <td>2</td>\n",
       "      <td>0</td>\n",
       "      <td>1</td>\n",
       "    </tr>\n",
       "    <tr>\n",
       "      <th>1047933</th>\n",
       "      <td>1</td>\n",
       "      <td>0</td>\n",
       "      <td>2</td>\n",
       "      <td>2</td>\n",
       "      <td>1</td>\n",
       "      <td>2</td>\n",
       "      <td>2</td>\n",
       "      <td>1</td>\n",
       "      <td>1</td>\n",
       "      <td>2</td>\n",
       "      <td>2</td>\n",
       "      <td>2</td>\n",
       "      <td>2</td>\n",
       "      <td>2</td>\n",
       "      <td>0</td>\n",
       "      <td>1</td>\n",
       "    </tr>\n",
       "    <tr>\n",
       "      <th>1047934</th>\n",
       "      <td>1</td>\n",
       "      <td>0</td>\n",
       "      <td>2</td>\n",
       "      <td>2</td>\n",
       "      <td>1</td>\n",
       "      <td>2</td>\n",
       "      <td>2</td>\n",
       "      <td>2</td>\n",
       "      <td>2</td>\n",
       "      <td>2</td>\n",
       "      <td>2</td>\n",
       "      <td>2</td>\n",
       "      <td>2</td>\n",
       "      <td>2</td>\n",
       "      <td>1</td>\n",
       "      <td>0</td>\n",
       "    </tr>\n",
       "    <tr>\n",
       "      <th>1047937</th>\n",
       "      <td>1</td>\n",
       "      <td>0</td>\n",
       "      <td>2</td>\n",
       "      <td>2</td>\n",
       "      <td>2</td>\n",
       "      <td>2</td>\n",
       "      <td>2</td>\n",
       "      <td>2</td>\n",
       "      <td>2</td>\n",
       "      <td>2</td>\n",
       "      <td>2</td>\n",
       "      <td>2</td>\n",
       "      <td>2</td>\n",
       "      <td>2</td>\n",
       "      <td>1</td>\n",
       "      <td>0</td>\n",
       "    </tr>\n",
       "  </tbody>\n",
       "</table>\n",
       "<p>180002 rows × 16 columns</p>\n",
       "</div>"
      ],
      "text/plain": [
       "         SEX  DATE_DIED  PNEUMONIA  PREGNANT  DIABETES  COPD  ASTHMA  INMSUPR  \\\n",
       "0          1          1          1         2         2     2       2        2   \n",
       "5          1          0          1         2         2     2       2        2   \n",
       "6          1          0          2         2         2     2       2        2   \n",
       "7          1          0          1         2         1     2       2        1   \n",
       "8          1          0          2         2         1     2       2        2   \n",
       "...      ...        ...        ...       ...       ...   ...     ...      ...   \n",
       "1047931    1          0          2         2         2     2       2        2   \n",
       "1047932    1          0          2         2         2     2       2        1   \n",
       "1047933    1          0          2         2         1     2       2        1   \n",
       "1047934    1          0          2         2         1     2       2        2   \n",
       "1047937    1          0          2         2         2     2       2        2   \n",
       "\n",
       "         HIPERTENSION  OTHER_DISEASE  CARDIOVASCULAR  OBESITY  RENAL_CHRONIC  \\\n",
       "0                   1              2               2        2              2   \n",
       "5                   2              2               2        2              2   \n",
       "6                   2              2               2        2              2   \n",
       "7                   1              2               2        2              1   \n",
       "8                   1              2               2        1              2   \n",
       "...               ...            ...             ...      ...            ...   \n",
       "1047931             2              2               2        1              2   \n",
       "1047932             2              2               2        2              2   \n",
       "1047933             1              2               2        2              2   \n",
       "1047934             2              2               2        2              2   \n",
       "1047937             2              2               2        2              2   \n",
       "\n",
       "         TOBACCO  AGE_GROUP_0-64  AGE_GROUP_65-100  \n",
       "0              2               0                 1  \n",
       "5              2               1                 0  \n",
       "6              2               1                 0  \n",
       "7              2               1                 0  \n",
       "8              2               1                 0  \n",
       "...          ...             ...               ...  \n",
       "1047931        2               1                 0  \n",
       "1047932        2               0                 1  \n",
       "1047933        2               0                 1  \n",
       "1047934        2               1                 0  \n",
       "1047937        2               1                 0  \n",
       "\n",
       "[180002 rows x 16 columns]"
      ]
     },
     "execution_count": 26,
     "metadata": {},
     "output_type": "execute_result"
    }
   ],
   "source": [
    "# Dropping Age and Age_group column\n",
    "covid_df = covid_df.drop([\"AGE\"], axis = 1)\n",
    "covid_df = covid_df.drop(columns=\"AGE_GROUP_0\")\n",
    "covid_df"
   ]
  },
  {
   "cell_type": "markdown",
   "id": "89677716",
   "metadata": {},
   "source": [
    "### Separate the Features (X) from the Target (y)"
   ]
  },
  {
   "cell_type": "code",
   "execution_count": 27,
   "id": "4ea6f67c",
   "metadata": {
    "scrolled": false
   },
   "outputs": [],
   "source": [
    "# Remove COVID death/fatality outcome target from features data\n",
    "y = covid_df.DATE_DIED\n",
    "X = covid_df.drop(columns=\"DATE_DIED\")"
   ]
  },
  {
   "cell_type": "code",
   "execution_count": 28,
   "id": "027c7571",
   "metadata": {
    "scrolled": true
   },
   "outputs": [
    {
     "data": {
      "text/plain": [
       "(180002, 15)"
      ]
     },
     "execution_count": 28,
     "metadata": {},
     "output_type": "execute_result"
    }
   ],
   "source": [
    "X.shape"
   ]
  },
  {
   "cell_type": "markdown",
   "id": "fe0c6c11",
   "metadata": {},
   "source": [
    "### Split our data into training and testing"
   ]
  },
  {
   "cell_type": "code",
   "execution_count": 29,
   "id": "fe864dab",
   "metadata": {},
   "outputs": [],
   "source": [
    "# Split training/test datasets\n",
    "X_train, X_test, y_train, y_test = train_test_split(X, y, random_state=42, stratify=y)"
   ]
  },
  {
   "cell_type": "code",
   "execution_count": 30,
   "id": "d77b6822",
   "metadata": {},
   "outputs": [
    {
     "data": {
      "text/plain": [
       "StandardScaler()"
      ]
     },
     "execution_count": 30,
     "metadata": {},
     "output_type": "execute_result"
    }
   ],
   "source": [
    "# Create a StandardScaler instance\n",
    "scaler = preprocessing.StandardScaler().fit(X_train)\n",
    "scaler"
   ]
  },
  {
   "cell_type": "code",
   "execution_count": 31,
   "id": "c45c04d7",
   "metadata": {},
   "outputs": [
    {
     "data": {
      "text/plain": [
       "array([1.        , 1.82320131, 1.9847853 , 1.84406782, 1.98395567,\n",
       "       1.96516322, 1.98668158, 1.80182369, 1.96971134, 1.97971867,\n",
       "       1.8052607 , 1.98155569, 1.95383738, 0.87500093, 0.12307316])"
      ]
     },
     "execution_count": 31,
     "metadata": {},
     "output_type": "execute_result"
    }
   ],
   "source": [
    "scaler.mean_"
   ]
  },
  {
   "cell_type": "code",
   "execution_count": 32,
   "id": "9b6041cb",
   "metadata": {},
   "outputs": [
    {
     "name": "stdout",
     "output_type": "stream",
     "text": [
      "(135001, 15)\n",
      "(45001, 15)\n",
      "(135001,)\n",
      "(45001,)\n"
     ]
    }
   ],
   "source": [
    "# Determine the shape of our training and testing sets.\n",
    "print(X_train.shape)\n",
    "print(X_test.shape)\n",
    "print(y_train.shape)\n",
    "print(y_test.shape)"
   ]
  },
  {
   "cell_type": "code",
   "execution_count": 33,
   "id": "b7210458",
   "metadata": {},
   "outputs": [],
   "source": [
    "# Fit the StandardScaler\n",
    "X_scaler = scaler.fit(X_train)\n",
    "\n",
    "# Scale the data\n",
    "X_train_scaled = X_scaler.transform(X_train)\n",
    "X_test_scaled = X_scaler.transform(X_test)"
   ]
  },
  {
   "cell_type": "markdown",
   "id": "926dea7f",
   "metadata": {},
   "source": [
    "## Logistic Regression"
   ]
  },
  {
   "cell_type": "code",
   "execution_count": 34,
   "id": "15b6c298",
   "metadata": {},
   "outputs": [],
   "source": [
    "# Define the logistic regression model\n",
    "log_classifier = LogisticRegression(solver=\"lbfgs\",max_iter=100)"
   ]
  },
  {
   "cell_type": "markdown",
   "id": "9b6bd82c",
   "metadata": {},
   "source": [
    "#### Note:\n",
    "* The solver parameter is set to 'lbfgs', which is an algorithm for learning and optimization. The particular solver isn't very important in this example, but note that a number of optimizers exist.\n",
    "* The max_iter parameter will be set to 100 iterations, which will give the model sufficient opportunity to converge on effective weights"
   ]
  },
  {
   "cell_type": "code",
   "execution_count": 35,
   "id": "f2ddc50a",
   "metadata": {},
   "outputs": [
    {
     "name": "stdout",
     "output_type": "stream",
     "text": [
      "Training Data Score: 0.9141117473203902\n"
     ]
    }
   ],
   "source": [
    "# Train the model\n",
    "log_classifier.fit(X_train,y_train)\n",
    "\n",
    "# Validate the model by using the training data\n",
    "print(f\"Training Data Score: {log_classifier.score(X_train, y_train)}\")"
   ]
  },
  {
   "cell_type": "code",
   "execution_count": 36,
   "id": "e97e5f00",
   "metadata": {},
   "outputs": [
    {
     "name": "stdout",
     "output_type": "stream",
     "text": [
      " Logistic regression model accuracy: 0.912\n"
     ]
    }
   ],
   "source": [
    "# Evaluate the model\n",
    "y_pred = log_classifier.predict(X_test)\n",
    "print(f\" Logistic regression model accuracy: {accuracy_score(y_test,y_pred):.3f}\")"
   ]
  },
  {
   "cell_type": "code",
   "execution_count": 37,
   "id": "6bb1a227",
   "metadata": {},
   "outputs": [
    {
     "name": "stdout",
     "output_type": "stream",
     "text": [
      "Classification Report\n",
      "              precision    recall  f1-score   support\n",
      "\n",
      "           0       0.94      0.97      0.95     40337\n",
      "           1       0.61      0.42      0.50      4664\n",
      "\n",
      "    accuracy                           0.91     45001\n",
      "   macro avg       0.77      0.70      0.73     45001\n",
      "weighted avg       0.90      0.91      0.90     45001\n",
      "\n"
     ]
    }
   ],
   "source": [
    "# Displaying results\n",
    "print(\"Classification Report\")\n",
    "print(classification_report(y_test, y_pred))"
   ]
  },
  {
   "cell_type": "markdown",
   "id": "fae01a16",
   "metadata": {},
   "source": [
    "#### Interpretation:\n",
    "* Logistic model able to predict correctly whether or not a person with the underlying diseases 91.2 % of the time will have a high risk of developing sever COVID which leads ultimately to fatality."
   ]
  },
  {
   "cell_type": "markdown",
   "id": "04f7d3de",
   "metadata": {},
   "source": [
    "## Random Forest "
   ]
  },
  {
   "cell_type": "code",
   "execution_count": 38,
   "id": "a5e56271",
   "metadata": {},
   "outputs": [],
   "source": [
    "# Create a random forest classifier.\n",
    "rf_model = RandomForestClassifier(n_estimators=128, random_state=78)\n",
    "\n",
    "# Fitting the model\n",
    "rf_model = rf_model.fit(X_train_scaled, y_train)"
   ]
  },
  {
   "cell_type": "code",
   "execution_count": 39,
   "id": "5fa93d9c",
   "metadata": {},
   "outputs": [
    {
     "name": "stdout",
     "output_type": "stream",
     "text": [
      "Training Data Score: 0.896348915933956\n"
     ]
    }
   ],
   "source": [
    "# Validate the model by using the training data\n",
    "print(f\"Training Data Score: {rf_model.score(X_train, y_train)}\")"
   ]
  },
  {
   "cell_type": "code",
   "execution_count": 40,
   "id": "ffc8f879",
   "metadata": {},
   "outputs": [
    {
     "name": "stdout",
     "output_type": "stream",
     "text": [
      " Random forest predictive accuracy: 0.911\n"
     ]
    }
   ],
   "source": [
    "# Evaluate the model\n",
    "y_pred = rf_model.predict(X_test_scaled)\n",
    "print(f\" Random forest predictive accuracy: {accuracy_score(y_test,y_pred):.3f}\")"
   ]
  },
  {
   "cell_type": "code",
   "execution_count": 41,
   "id": "707c98d7",
   "metadata": {},
   "outputs": [
    {
     "name": "stdout",
     "output_type": "stream",
     "text": [
      "Classification Report\n",
      "              precision    recall  f1-score   support\n",
      "\n",
      "           0       0.93      0.97      0.95     40337\n",
      "           1       0.61      0.39      0.48      4664\n",
      "\n",
      "    accuracy                           0.91     45001\n",
      "   macro avg       0.77      0.68      0.71     45001\n",
      "weighted avg       0.90      0.91      0.90     45001\n",
      "\n"
     ]
    }
   ],
   "source": [
    "# Displaying results\n",
    "print(\"Classification Report\")\n",
    "print(classification_report(y_test, y_pred))"
   ]
  },
  {
   "cell_type": "markdown",
   "id": "14176095",
   "metadata": {},
   "source": [
    "#### Interpretation:\n",
    "* Random forest model able to predict correctly whether or not a person with the mentioned underlying diseases 91.1% of the time will have a high risk of developing sever COVID which leads ultimately to fatality."
   ]
  },
  {
   "cell_type": "markdown",
   "id": "7c8df56c",
   "metadata": {},
   "source": [
    "## Gradient Boosting Classifier"
   ]
  },
  {
   "cell_type": "code",
   "execution_count": 42,
   "id": "5cf90c1d",
   "metadata": {},
   "outputs": [],
   "source": [
    "# Choose a learning rate and create classifier\n",
    "classifier = GradientBoostingClassifier(n_estimators=20,\n",
    "                                        learning_rate=0.5,\n",
    "                                        max_features=5,\n",
    "                                        max_depth=3,\n",
    "                                        random_state=0)"
   ]
  },
  {
   "cell_type": "code",
   "execution_count": 43,
   "id": "342fdcb7",
   "metadata": {},
   "outputs": [
    {
     "data": {
      "text/plain": [
       "GradientBoostingClassifier(learning_rate=0.5, max_features=5, n_estimators=20,\n",
       "                           random_state=0)"
      ]
     },
     "execution_count": 43,
     "metadata": {},
     "output_type": "execute_result"
    }
   ],
   "source": [
    "# Fit the model\n",
    "classifier.fit(X_train_scaled, y_train)"
   ]
  },
  {
   "cell_type": "code",
   "execution_count": 44,
   "id": "e42b6351",
   "metadata": {},
   "outputs": [
    {
     "name": "stdout",
     "output_type": "stream",
     "text": [
      "Training Data Score: 0.896348915933956\n"
     ]
    }
   ],
   "source": [
    "# Validate the model by using the training data\n",
    "print(f\"Training Data Score: {classifier.score(X_train, y_train)}\")"
   ]
  },
  {
   "cell_type": "code",
   "execution_count": 45,
   "id": "4e1c83fc",
   "metadata": {},
   "outputs": [
    {
     "name": "stdout",
     "output_type": "stream",
     "text": [
      " Gradient Boosting Classifier model accuracy: 0.911\n"
     ]
    }
   ],
   "source": [
    "# Evaluate the model\n",
    "y_pred = classifier.predict(X_test_scaled)\n",
    "print(f\" Gradient Boosting Classifier model accuracy: {accuracy_score(y_test,y_pred):.3f}\")"
   ]
  },
  {
   "cell_type": "code",
   "execution_count": 46,
   "id": "25a300e9",
   "metadata": {},
   "outputs": [
    {
     "name": "stdout",
     "output_type": "stream",
     "text": [
      "Classification Report\n",
      "              precision    recall  f1-score   support\n",
      "\n",
      "           0       0.94      0.96      0.95     40337\n",
      "           1       0.59      0.46      0.52      4664\n",
      "\n",
      "    accuracy                           0.91     45001\n",
      "   macro avg       0.77      0.71      0.74     45001\n",
      "weighted avg       0.90      0.91      0.91     45001\n",
      "\n"
     ]
    }
   ],
   "source": [
    "# Generate classification report\n",
    "print(\"Classification Report\")\n",
    "print(classification_report(y_test, y_pred))"
   ]
  },
  {
   "cell_type": "markdown",
   "id": "50df1e12",
   "metadata": {},
   "source": [
    "#### Interpretation:\n",
    "Gradient Boosting Classifier model able to predict correctly whether or not a patient with the mentioned underlying diseases, 91.2% of the time will have a high risk of developing sever COVID which leads ultimately to fatality."
   ]
  },
  {
   "cell_type": "markdown",
   "id": "1296c95d",
   "metadata": {},
   "source": [
    "## Easy Ensemble AdaBoost Classifier"
   ]
  },
  {
   "cell_type": "code",
   "execution_count": 52,
   "id": "4a8ceb38",
   "metadata": {},
   "outputs": [],
   "source": [
    "# Train the EasyEnsembleClassifier\n",
    "from imblearn.ensemble import EasyEnsembleClassifier\n",
    "\n",
    "model_adb = EasyEnsembleClassifier(n_estimators=500, random_state=1) \n",
    "model_adb = model_adb.fit(X_train, y_train)"
   ]
  },
  {
   "cell_type": "code",
   "execution_count": 53,
   "id": "ecd4f1a4",
   "metadata": {},
   "outputs": [],
   "source": [
    "# Fitting the model with our training sets.\n",
    "model_adb = model_adb.fit(X_train, y_train)"
   ]
  },
  {
   "cell_type": "code",
   "execution_count": 54,
   "id": "02b0fdd8",
   "metadata": {},
   "outputs": [
    {
     "name": "stdout",
     "output_type": "stream",
     "text": [
      "Training Data Score: 0.8493566714320635\n"
     ]
    }
   ],
   "source": [
    "# Validate the model by using the training data\n",
    "print(f\"Training Data Score: {model_adb.score(X_train, y_train)}\")"
   ]
  },
  {
   "cell_type": "code",
   "execution_count": 55,
   "id": "c369230a",
   "metadata": {},
   "outputs": [
    {
     "name": "stdout",
     "output_type": "stream",
     "text": [
      " AdaBoost Classifier model accuracy: 0.845\n"
     ]
    }
   ],
   "source": [
    "# Evaluate the model\n",
    "y_pred = model_adb.predict(X_test)\n",
    "print(f\" AdaBoost Classifier model accuracy: {accuracy_score(y_test,y_pred):.3f}\")"
   ]
  },
  {
   "cell_type": "markdown",
   "id": "351d6b4f",
   "metadata": {},
   "source": [
    "#### Interpretation:\n",
    "* Easy Ensemble AdaBoost Classifier model able to predict correctly whether or not a patient with the mentioned underlying diseases, 84.5% of the time will have a high risk of developing sever COVID which leads ultimately to fatality."
   ]
  },
  {
   "cell_type": "code",
   "execution_count": 56,
   "id": "691e9e35",
   "metadata": {},
   "outputs": [
    {
     "name": "stdout",
     "output_type": "stream",
     "text": [
      "Classification Report\n",
      "              precision    recall  f1-score   support\n",
      "\n",
      "           0       0.98      0.85      0.91     40337\n",
      "           1       0.39      0.84      0.53      4664\n",
      "\n",
      "    accuracy                           0.84     45001\n",
      "   macro avg       0.68      0.84      0.72     45001\n",
      "weighted avg       0.92      0.84      0.87     45001\n",
      "\n"
     ]
    }
   ],
   "source": [
    "# Generate classification report\n",
    "print(\"Classification Report\")\n",
    "print(classification_report(y_test, y_pred))"
   ]
  },
  {
   "cell_type": "markdown",
   "id": "3a2098b7",
   "metadata": {},
   "source": [
    "## Support Vector Machine"
   ]
  },
  {
   "cell_type": "code",
   "execution_count": 49,
   "id": "89ba3419",
   "metadata": {},
   "outputs": [],
   "source": [
    "# Create the SVM model\n",
    "svm = SVC(kernel='linear')"
   ]
  },
  {
   "cell_type": "code",
   "execution_count": 50,
   "id": "3edb12cd",
   "metadata": {},
   "outputs": [
    {
     "data": {
      "text/plain": [
       "SVC(kernel='linear')"
      ]
     },
     "execution_count": 50,
     "metadata": {},
     "output_type": "execute_result"
    }
   ],
   "source": [
    "# Train the model\n",
    "svm.fit(X_train, y_train)"
   ]
  },
  {
   "cell_type": "code",
   "execution_count": 51,
   "id": "80c8cb78",
   "metadata": {},
   "outputs": [
    {
     "name": "stdout",
     "output_type": "stream",
     "text": [
      "Training Data Score: 0.9131191620802809\n"
     ]
    }
   ],
   "source": [
    "# Validate the model by using the training data\n",
    "print(f\"Training Data Score: {svm.score(X_train, y_train)}\")"
   ]
  },
  {
   "cell_type": "code",
   "execution_count": 52,
   "id": "00b74524",
   "metadata": {},
   "outputs": [
    {
     "name": "stdout",
     "output_type": "stream",
     "text": [
      " SVM model accuracy: 0.104\n"
     ]
    }
   ],
   "source": [
    "# Evaluate the model\n",
    "y_pred = svm.predict(X_test_scaled)\n",
    "print(f\" SVM model accuracy: {accuracy_score(y_test,y_pred):.3f}\")"
   ]
  },
  {
   "cell_type": "markdown",
   "id": "e75bd3f8",
   "metadata": {},
   "source": [
    "#### Interpretation:\n",
    "* Looking at the output of our SVM model, the model was able to correctly predict  whether or not a person with the underline diseases 10.4% of the time will have a high risk of developing sever COVID which leads ultimately to fatality."
   ]
  },
  {
   "cell_type": "markdown",
   "id": "717187ae",
   "metadata": {},
   "source": [
    "## Deep Learning"
   ]
  },
  {
   "cell_type": "code",
   "execution_count": 53,
   "id": "18fb6447",
   "metadata": {},
   "outputs": [],
   "source": [
    "# Define the model - deep neural net\n",
    "number_input_features = len(X_train_scaled[0])\n",
    "hidden_nodes_layer1 = 14\n",
    "hidden_nodes_layer2 = 10\n",
    "\n",
    "model = tf.keras.models.Sequential()\n",
    "\n",
    "# First hidden layer\n",
    "first_layer = tf.keras.layers.Dense(units=hidden_nodes_layer1, input_dim=number_input_features, activation=\"relu\")\n",
    "model.add(first_layer)\n",
    "\n",
    "\n",
    "# Second hidden layer\n",
    "second_layer = tf.keras.layers.Dense(units=hidden_nodes_layer2, activation=\"relu\")\n",
    "model.add(second_layer)\n",
    "\n",
    "\n",
    "# Output layer\n",
    "output_layer = tf.keras.layers.Dense(units=1, activation=\"sigmoid\")\n",
    "model.add(output_layer)\n",
    "\n",
    "# Compile the Sequential model together and customize metrics\n",
    "model.compile(loss=\"binary_crossentropy\", optimizer=\"adam\", metrics=[\"accuracy\"])"
   ]
  },
  {
   "cell_type": "code",
   "execution_count": 54,
   "id": "90a92c1f",
   "metadata": {
    "scrolled": true
   },
   "outputs": [
    {
     "name": "stdout",
     "output_type": "stream",
     "text": [
      "Epoch 1/100\n",
      "4219/4219 [==============================] - 5s 1ms/step - loss: 0.2207 - accuracy: 0.9088\n",
      "Epoch 2/100\n",
      "4219/4219 [==============================] - 5s 1ms/step - loss: 0.2032 - accuracy: 0.9138\n",
      "Epoch 3/100\n",
      "4219/4219 [==============================] - 5s 1ms/step - loss: 0.2027 - accuracy: 0.9139\n",
      "Epoch 4/100\n",
      "4219/4219 [==============================] - 5s 1ms/step - loss: 0.2026 - accuracy: 0.9142\n",
      "Epoch 5/100\n",
      "4219/4219 [==============================] - 5s 1ms/step - loss: 0.2023 - accuracy: 0.9141\n",
      "Epoch 6/100\n",
      "4219/4219 [==============================] - 5s 1ms/step - loss: 0.2024 - accuracy: 0.9142\n",
      "Epoch 7/100\n",
      "4219/4219 [==============================] - 5s 1ms/step - loss: 0.2022 - accuracy: 0.9143\n",
      "Epoch 8/100\n",
      "4219/4219 [==============================] - 5s 1ms/step - loss: 0.2021 - accuracy: 0.9143\n",
      "Epoch 9/100\n",
      "4219/4219 [==============================] - 5s 1ms/step - loss: 0.2021 - accuracy: 0.9142\n",
      "Epoch 10/100\n",
      "4219/4219 [==============================] - 5s 1ms/step - loss: 0.2021 - accuracy: 0.9144\n",
      "Epoch 11/100\n",
      "4219/4219 [==============================] - 5s 1ms/step - loss: 0.2020 - accuracy: 0.9143\n",
      "Epoch 12/100\n",
      "4219/4219 [==============================] - 5s 1ms/step - loss: 0.2020 - accuracy: 0.9143\n",
      "Epoch 13/100\n",
      "4219/4219 [==============================] - 5s 1ms/step - loss: 0.2019 - accuracy: 0.9142\n",
      "Epoch 14/100\n",
      "4219/4219 [==============================] - 5s 1ms/step - loss: 0.2020 - accuracy: 0.9142\n",
      "Epoch 15/100\n",
      "4219/4219 [==============================] - 5s 1ms/step - loss: 0.2019 - accuracy: 0.9144\n",
      "Epoch 16/100\n",
      "4219/4219 [==============================] - 5s 1ms/step - loss: 0.2018 - accuracy: 0.9146\n",
      "Epoch 17/100\n",
      "4219/4219 [==============================] - 5s 1ms/step - loss: 0.2019 - accuracy: 0.9144\n",
      "Epoch 18/100\n",
      "4219/4219 [==============================] - 5s 1ms/step - loss: 0.2019 - accuracy: 0.9146\n",
      "Epoch 19/100\n",
      "4219/4219 [==============================] - 5s 1ms/step - loss: 0.2018 - accuracy: 0.9143\n",
      "Epoch 20/100\n",
      "4219/4219 [==============================] - 5s 1ms/step - loss: 0.2018 - accuracy: 0.9145\n",
      "Epoch 21/100\n",
      "4219/4219 [==============================] - 5s 1ms/step - loss: 0.2018 - accuracy: 0.9139\n",
      "Epoch 22/100\n",
      "4219/4219 [==============================] - 5s 1ms/step - loss: 0.2018 - accuracy: 0.9143\n",
      "Epoch 23/100\n",
      "4219/4219 [==============================] - 6s 1ms/step - loss: 0.2018 - accuracy: 0.9143\n",
      "Epoch 24/100\n",
      "4219/4219 [==============================] - 5s 1ms/step - loss: 0.2018 - accuracy: 0.9139\n",
      "Epoch 25/100\n",
      "4219/4219 [==============================] - 5s 1ms/step - loss: 0.2018 - accuracy: 0.9141\n",
      "Epoch 26/100\n",
      "4219/4219 [==============================] - 5s 1ms/step - loss: 0.2017 - accuracy: 0.9145\n",
      "Epoch 27/100\n",
      "4219/4219 [==============================] - 5s 1ms/step - loss: 0.2018 - accuracy: 0.9142\n",
      "Epoch 28/100\n",
      "4219/4219 [==============================] - 5s 1ms/step - loss: 0.2018 - accuracy: 0.9144\n",
      "Epoch 29/100\n",
      "4219/4219 [==============================] - 5s 1ms/step - loss: 0.2017 - accuracy: 0.9143\n",
      "Epoch 30/100\n",
      "4219/4219 [==============================] - 5s 1ms/step - loss: 0.2017 - accuracy: 0.9143\n",
      "Epoch 31/100\n",
      "4219/4219 [==============================] - 4s 1ms/step - loss: 0.2016 - accuracy: 0.9143\n",
      "Epoch 32/100\n",
      "4219/4219 [==============================] - 4s 1ms/step - loss: 0.2016 - accuracy: 0.9142\n",
      "Epoch 33/100\n",
      "4219/4219 [==============================] - 5s 1ms/step - loss: 0.2016 - accuracy: 0.9146\n",
      "Epoch 34/100\n",
      "4219/4219 [==============================] - 5s 1ms/step - loss: 0.2016 - accuracy: 0.9144\n",
      "Epoch 35/100\n",
      "4219/4219 [==============================] - 5s 1ms/step - loss: 0.2016 - accuracy: 0.9146\n",
      "Epoch 36/100\n",
      "4219/4219 [==============================] - 5s 1ms/step - loss: 0.2016 - accuracy: 0.9141\n",
      "Epoch 37/100\n",
      "4219/4219 [==============================] - 5s 1ms/step - loss: 0.2016 - accuracy: 0.9144\n",
      "Epoch 38/100\n",
      "4219/4219 [==============================] - 4s 1ms/step - loss: 0.2016 - accuracy: 0.9144\n",
      "Epoch 39/100\n",
      "4219/4219 [==============================] - 5s 1ms/step - loss: 0.2015 - accuracy: 0.9145\n",
      "Epoch 40/100\n",
      "4219/4219 [==============================] - 5s 1ms/step - loss: 0.2015 - accuracy: 0.9145\n",
      "Epoch 41/100\n",
      "4219/4219 [==============================] - 5s 1ms/step - loss: 0.2015 - accuracy: 0.9147\n",
      "Epoch 42/100\n",
      "4219/4219 [==============================] - 4s 1ms/step - loss: 0.2015 - accuracy: 0.9143\n",
      "Epoch 43/100\n",
      "4219/4219 [==============================] - 5s 1ms/step - loss: 0.2016 - accuracy: 0.9141\n",
      "Epoch 44/100\n",
      "4219/4219 [==============================] - 5s 1ms/step - loss: 0.2014 - accuracy: 0.9144\n",
      "Epoch 45/100\n",
      "4219/4219 [==============================] - 5s 1ms/step - loss: 0.2015 - accuracy: 0.9143\n",
      "Epoch 46/100\n",
      "4219/4219 [==============================] - 5s 1ms/step - loss: 0.2015 - accuracy: 0.9147\n",
      "Epoch 47/100\n",
      "4219/4219 [==============================] - 5s 1ms/step - loss: 0.2015 - accuracy: 0.9144\n",
      "Epoch 48/100\n",
      "4219/4219 [==============================] - 6s 1ms/step - loss: 0.2015 - accuracy: 0.9147\n",
      "Epoch 49/100\n",
      "4219/4219 [==============================] - 6s 1ms/step - loss: 0.2015 - accuracy: 0.9145\n",
      "Epoch 50/100\n",
      "4219/4219 [==============================] - 5s 1ms/step - loss: 0.2015 - accuracy: 0.9145\n",
      "Epoch 51/100\n",
      "4219/4219 [==============================] - 5s 1ms/step - loss: 0.2015 - accuracy: 0.9149\n",
      "Epoch 52/100\n",
      "4219/4219 [==============================] - 5s 1ms/step - loss: 0.2015 - accuracy: 0.9146\n",
      "Epoch 53/100\n",
      "4219/4219 [==============================] - 5s 1ms/step - loss: 0.2015 - accuracy: 0.9144\n",
      "Epoch 54/100\n",
      "4219/4219 [==============================] - 5s 1ms/step - loss: 0.2014 - accuracy: 0.9146\n",
      "Epoch 55/100\n",
      "4219/4219 [==============================] - 5s 1ms/step - loss: 0.2015 - accuracy: 0.9147\n",
      "Epoch 56/100\n",
      "4219/4219 [==============================] - 5s 1ms/step - loss: 0.2015 - accuracy: 0.9147\n",
      "Epoch 57/100\n",
      "4219/4219 [==============================] - 5s 1ms/step - loss: 0.2014 - accuracy: 0.9141\n",
      "Epoch 58/100\n",
      "4219/4219 [==============================] - 5s 1ms/step - loss: 0.2014 - accuracy: 0.9144\n",
      "Epoch 59/100\n",
      "4219/4219 [==============================] - 5s 1ms/step - loss: 0.2014 - accuracy: 0.9144\n",
      "Epoch 60/100\n",
      "4219/4219 [==============================] - 5s 1ms/step - loss: 0.2014 - accuracy: 0.9146\n",
      "Epoch 61/100\n",
      "4219/4219 [==============================] - 5s 1ms/step - loss: 0.2014 - accuracy: 0.9144\n",
      "Epoch 62/100\n",
      "4219/4219 [==============================] - 5s 1ms/step - loss: 0.2014 - accuracy: 0.9143\n",
      "Epoch 63/100\n",
      "4219/4219 [==============================] - 5s 1ms/step - loss: 0.2014 - accuracy: 0.9146\n",
      "Epoch 64/100\n",
      "4219/4219 [==============================] - 5s 1ms/step - loss: 0.2014 - accuracy: 0.9146\n",
      "Epoch 65/100\n",
      "4219/4219 [==============================] - 4s 1ms/step - loss: 0.2014 - accuracy: 0.9146\n",
      "Epoch 66/100\n",
      "4219/4219 [==============================] - 4s 1ms/step - loss: 0.2014 - accuracy: 0.9142\n",
      "Epoch 67/100\n",
      "4219/4219 [==============================] - 5s 1ms/step - loss: 0.2014 - accuracy: 0.9143\n",
      "Epoch 68/100\n",
      "4219/4219 [==============================] - 5s 1ms/step - loss: 0.2015 - accuracy: 0.9144\n",
      "Epoch 69/100\n",
      "4219/4219 [==============================] - 5s 1ms/step - loss: 0.2013 - accuracy: 0.9145\n",
      "Epoch 70/100\n",
      "4219/4219 [==============================] - 5s 1ms/step - loss: 0.2014 - accuracy: 0.9146\n",
      "Epoch 71/100\n",
      "4219/4219 [==============================] - 5s 1ms/step - loss: 0.2014 - accuracy: 0.9147\n",
      "Epoch 72/100\n",
      "4219/4219 [==============================] - 5s 1ms/step - loss: 0.2013 - accuracy: 0.9146\n",
      "Epoch 73/100\n",
      "4219/4219 [==============================] - 5s 1ms/step - loss: 0.2013 - accuracy: 0.9148\n",
      "Epoch 74/100\n",
      "4219/4219 [==============================] - 6s 1ms/step - loss: 0.2014 - accuracy: 0.9145\n",
      "Epoch 75/100\n",
      "4219/4219 [==============================] - 5s 1ms/step - loss: 0.2013 - accuracy: 0.9148\n",
      "Epoch 76/100\n",
      "4219/4219 [==============================] - 5s 1ms/step - loss: 0.2014 - accuracy: 0.9146\n",
      "Epoch 77/100\n",
      "4219/4219 [==============================] - 5s 1ms/step - loss: 0.2014 - accuracy: 0.9141\n",
      "Epoch 78/100\n",
      "4219/4219 [==============================] - 5s 1ms/step - loss: 0.2014 - accuracy: 0.9144\n",
      "Epoch 79/100\n",
      "4219/4219 [==============================] - 5s 1ms/step - loss: 0.2012 - accuracy: 0.9140\n",
      "Epoch 80/100\n",
      "4219/4219 [==============================] - 5s 1ms/step - loss: 0.2013 - accuracy: 0.9147\n",
      "Epoch 81/100\n",
      "4219/4219 [==============================] - 4s 1ms/step - loss: 0.2013 - accuracy: 0.9143\n",
      "Epoch 82/100\n",
      "4219/4219 [==============================] - 5s 1ms/step - loss: 0.2013 - accuracy: 0.9146\n",
      "Epoch 83/100\n",
      "4219/4219 [==============================] - 5s 1ms/step - loss: 0.2013 - accuracy: 0.9143\n",
      "Epoch 84/100\n",
      "4219/4219 [==============================] - 6s 1ms/step - loss: 0.2013 - accuracy: 0.9142\n",
      "Epoch 85/100\n",
      "4219/4219 [==============================] - 4s 1ms/step - loss: 0.2013 - accuracy: 0.9142\n",
      "Epoch 86/100\n",
      "4219/4219 [==============================] - 5s 1ms/step - loss: 0.2013 - accuracy: 0.9147\n",
      "Epoch 87/100\n",
      "4219/4219 [==============================] - 5s 1ms/step - loss: 0.2013 - accuracy: 0.9143\n",
      "Epoch 88/100\n",
      "4219/4219 [==============================] - 5s 1ms/step - loss: 0.2013 - accuracy: 0.9145\n",
      "Epoch 89/100\n",
      "4219/4219 [==============================] - 4s 998us/step - loss: 0.2013 - accuracy: 0.9145\n",
      "Epoch 90/100\n",
      "4219/4219 [==============================] - 5s 1ms/step - loss: 0.2012 - accuracy: 0.9149\n",
      "Epoch 91/100\n",
      "4219/4219 [==============================] - 5s 1ms/step - loss: 0.2013 - accuracy: 0.9143\n",
      "Epoch 92/100\n",
      "4219/4219 [==============================] - 4s 1ms/step - loss: 0.2012 - accuracy: 0.9142\n",
      "Epoch 93/100\n",
      "4219/4219 [==============================] - 5s 1ms/step - loss: 0.2013 - accuracy: 0.9141\n",
      "Epoch 94/100\n",
      "4219/4219 [==============================] - 4s 1ms/step - loss: 0.2013 - accuracy: 0.9147\n",
      "Epoch 95/100\n",
      "4219/4219 [==============================] - 5s 1ms/step - loss: 0.2013 - accuracy: 0.9143\n",
      "Epoch 96/100\n",
      "4219/4219 [==============================] - 5s 1ms/step - loss: 0.2013 - accuracy: 0.9142\n",
      "Epoch 97/100\n",
      "4219/4219 [==============================] - 4s 1ms/step - loss: 0.2012 - accuracy: 0.9146\n",
      "Epoch 98/100\n",
      "4219/4219 [==============================] - 5s 1ms/step - loss: 0.2012 - accuracy: 0.9144\n",
      "Epoch 99/100\n",
      "4219/4219 [==============================] - 6s 1ms/step - loss: 0.2012 - accuracy: 0.9145\n",
      "Epoch 100/100\n",
      "4219/4219 [==============================] - 5s 1ms/step - loss: 0.2013 - accuracy: 0.9143\n"
     ]
    }
   ],
   "source": [
    "# Train the model\n",
    "covid_model = model.fit(X_train_scaled, y_train, epochs=100)"
   ]
  },
  {
   "cell_type": "code",
   "execution_count": 61,
   "id": "5a145eb0",
   "metadata": {
    "scrolled": true
   },
   "outputs": [
    {
     "name": "stdout",
     "output_type": "stream",
     "text": [
      "1407/1407 - 1s - loss: 0.2059 - accuracy: 0.9121 - 1s/epoch - 883us/step\n",
      "Loss: 0.20591072738170624, Accuracy: 0.9120686054229736\n"
     ]
    }
   ],
   "source": [
    "# Evaluate the model using the test data\n",
    "model_loss, model_accuracy = model.evaluate(X_test_scaled,y_test,verbose=2)\n",
    "print(f\"Loss: {model_loss}, Accuracy: {model_accuracy}\")"
   ]
  },
  {
   "cell_type": "code",
   "execution_count": 62,
   "id": "e206ed6f",
   "metadata": {},
   "outputs": [
    {
     "data": {
      "text/plain": [
       "<AxesSubplot:>"
      ]
     },
     "execution_count": 62,
     "metadata": {},
     "output_type": "execute_result"
    },
    {
     "data": {
      "image/png": "[encoded data removed]",
      "text/plain": [
       "<Figure size 640x480 with 1 Axes>"
      ]
     },
     "metadata": {},
     "output_type": "display_data"
    }
   ],
   "source": [
    "# Create a DataFrame containing training history\n",
    "history_df = pd.DataFrame(covid_model.history, index=range(1,len(covid_model.history[\"loss\"])+1))\n",
    "\n",
    "# Plot the loss\n",
    "history_df.plot(y=\"loss\")"
   ]
  },
  {
   "cell_type": "code",
   "execution_count": 63,
   "id": "88220fd7",
   "metadata": {},
   "outputs": [
    {
     "data": {
      "text/plain": [
       "<AxesSubplot:>"
      ]
     },
     "execution_count": 63,
     "metadata": {},
     "output_type": "execute_result"
    },
    {
     "data": {
      "image/png": "[encoded data removed]",
      "text/plain": [
       "<Figure size 640x480 with 1 Axes>"
      ]
     },
     "metadata": {},
     "output_type": "display_data"
    }
   ],
   "source": [
    "# Plot the accuracy\n",
    "history_df.plot(y=\"accuracy\")"
   ]
  },
  {
   "cell_type": "markdown",
   "id": "ee9ac35f",
   "metadata": {},
   "source": [
    "#### ============================================================================================================="
   ]
  },
  {
   "cell_type": "markdown",
   "id": "a272c844",
   "metadata": {},
   "source": [
    "## Rank the Importance of Features\n",
    "\n",
    "* how useful the model found each feature in trying to predict the target. This gives us the opportunity to analyse what contributed to the accuracy of the model and what features were just noise."
   ]
  },
  {
   "cell_type": "code",
   "execution_count": 57,
   "id": "ba0d3fdc",
   "metadata": {},
   "outputs": [
    {
     "data": {
      "text/plain": [
       "array([0.        , 0.52848959, 0.00141054, 0.06498804, 0.01187975,\n",
       "       0.00666904, 0.00820037, 0.05866624, 0.0109213 , 0.00978455,\n",
       "       0.01268526, 0.0247031 , 0.00713929, 0.09702398, 0.15743895])"
      ]
     },
     "execution_count": 57,
     "metadata": {},
     "output_type": "execute_result"
    }
   ],
   "source": [
    "# Calculate feature importance from the Random Forest model.\n",
    "importances = rf_model.feature_importances_\n",
    "importances"
   ]
  },
  {
   "cell_type": "code",
   "execution_count": 58,
   "id": "eda765ac",
   "metadata": {},
   "outputs": [
    {
     "data": {
      "text/plain": [
       "[(0.5284895911351734, 'PNEUMONIA'),\n",
       " (0.15743895195032118, 'AGE_GROUP_65-100'),\n",
       " (0.0970239801559351, 'AGE_GROUP_0-64'),\n",
       " (0.06498804265970319, 'DIABETES'),\n",
       " (0.05866624065940497, 'HIPERTENSION'),\n",
       " (0.024703104333864474, 'RENAL_CHRONIC'),\n",
       " (0.012685259052025786, 'OBESITY'),\n",
       " (0.011879751136742913, 'COPD'),\n",
       " (0.010921299418297939, 'OTHER_DISEASE'),\n",
       " (0.009784550863561005, 'CARDIOVASCULAR'),\n",
       " (0.008200368816185445, 'INMSUPR'),\n",
       " (0.0071392854076348915, 'TOBACCO'),\n",
       " (0.006669036486013625, 'ASTHMA'),\n",
       " (0.0014105379251363724, 'PREGNANT'),\n",
       " (0.0, 'SEX')]"
      ]
     },
     "execution_count": 58,
     "metadata": {},
     "output_type": "execute_result"
    }
   ],
   "source": [
    "# We can sort the features by their importance.\n",
    "sorted_df = sorted(zip(rf_model.feature_importances_, X.columns), reverse=True)\n",
    "sorted_df"
   ]
  },
  {
   "cell_type": "code",
   "execution_count": 59,
   "id": "55196b8d",
   "metadata": {},
   "outputs": [
    {
     "data": {
      "text/plain": [
       "<AxesSubplot:title={'center':'Feature importances'}>"
      ]
     },
     "execution_count": 59,
     "metadata": {},
     "output_type": "execute_result"
    },
    {
     "data": {
      "image/png": "[encoded data removed]",
      "text/plain": [
       "<Figure size 640x480 with 1 Axes>"
      ]
     },
     "metadata": {},
     "output_type": "display_data"
    }
   ],
   "source": [
    "# Plot the feature importances of the forest\n",
    "plt.title(\"Feature importances\")\n",
    "plt.yticks(fontsize=8,)\n",
    "plt.xticks(fontsize=8,)\n",
    "(pd.Series(rf_model.feature_importances_, index=X.columns)\n",
    "   .nlargest(16)\n",
    "   .plot(kind='bar')) "
   ]
  },
  {
   "cell_type": "markdown",
   "id": "ae3891de",
   "metadata": {},
   "source": [
    "# Results\n",
    "\n",
    "* Different ML models were trained on top of these 14 features to predict patients' mortality or discharge outcomes. From different ML models (e.g., Logistic Regression, random forest, Gradient Boosting Classifier, support vector machine, AdaBoost, and neural network), the logistic Regression model performance better with an accuracy of 91.4% followed by SVM (91.3%) and Deep learning (91.2%). \n",
    "\n",
    "\n",
    "* The trained models were then tested on the test dataset. Again, four models (Logistic Regression, Gradient Boosting Classifierneural network) had the best performance with  an accuracy of 91.2%, followed by random forest (91.1%) accuracy rate. SVM has the least accuracy rate of 10.4%. Easy Ensemble AdaBoost Classifier model is the only model with high sensitivity rate of 84% . \n"
   ]
  },
  {
   "cell_type": "code",
   "execution_count": null,
   "id": "c943e38f",
   "metadata": {},
   "outputs": [],
   "source": []
  }
 ],
 "metadata": {
  "kernelspec": {
   "display_name": "mlen",
   "language": "python",
   "name": "mlen"
  },
  "language_info": {
   "codemirror_mode": {
    "name": "ipython",
    "version": 3
   },
   "file_extension": ".py",
   "mimetype": "text/x-python",
   "name": "python",
   "nbconvert_exporter": "python",
   "pygments_lexer": "ipython3",
   "version": "3.7.13"
  }
 },
 "nbformat": 4,
 "nbformat_minor": 5
}
