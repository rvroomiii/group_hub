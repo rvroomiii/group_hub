{
 "cells": [
  {
   "cell_type": "markdown",
   "id": "d9efc053",
   "metadata": {},
   "source": [
    "## Predicting COVID fatality\n",
    "\n",
    "#### Background:\n",
    "Coronavirus disease (COVID-19) is an infectious disease caused by a newly discovered coronavirus. Most people infected with COVID-19 virus will experience mild to moderate respiratory illness and recover without requiring special treatment. Older people, and those with underlying medical problems like cardiovascular disease, diabetes, chronic respiratory disease, and cancer are more likely to develop serious illness.\n",
    "\n",
    "#### Objective:\n",
    "* The main goal of this project is to build a machine learning model that, given a Covid-19 patient's current symptom, status, and medical history, will predict whether the patient is in high risk or not."
   ]
  },
  {
   "cell_type": "markdown",
   "id": "4c25ff97",
   "metadata": {},
   "source": [
    "#### Content: \n",
    "In the Boolean features, 1 means \"yes\" and 2 means \"no\". values as 97 and 99 are missing data.\n",
    "\n",
    "* sex: 1 for female and 2 for male.\n",
    "* age: of the patient.\n",
    "* classification: covid test findings. Values 1-3 mean that the patient was diagnosed with covid in different degrees. 4 or higher means that the patient is not a carrier of covid or that the test is inconclusive.\n",
    "* patient type: type of care the patient received in the unit. 1 for returned home and 2 for hospitalization.\n",
    "* pneumonia: whether the patient already have air sacs inflammation or not.\n",
    "* pregnancy: whether the patient is pregnant or not.\n",
    "* diabetes: whether the patient has diabetes or not.\n",
    "* copd: Indicates whether the patient has Chronic obstructive pulmonary disease or not.\n",
    "* asthma: whether the patient has asthma or not.\n",
    "* inmsupr: whether the patient is immunosuppressed or not.\n",
    "* hypertension: whether the patient has hypertension or not.\n",
    "* cardiovascular: whether the patient has heart or blood vessels related disease.\n",
    "* renal chronic: whether the patient has chronic renal disease or not.\n",
    "* other disease: whether the patient has other disease or not.\n",
    "* obesity: whether the patient is obese or not.\n",
    "* tobacco: whether the patient is a tobacco user.\n",
    "* usmr: Indicates whether the patient treated medical units of the first, second or third level.\n",
    "* medical unit: type of institution of the National Health System that provided the care.\n",
    "* intubed: whether the patient was connected to the ventilator.\n",
    "* icu: Indicates whether the patient had been admitted to an Intensive Care Unit.\n",
    "* date died: If the patient died indicate the date of death, and 9999-99-99 otherwise."
   ]
  },
  {
   "cell_type": "markdown",
   "id": "df76e414",
   "metadata": {},
   "source": [
    "#### Source: https://www.kaggle.com/datasets/meirnizri/covid19-dataset"
   ]
  },
  {
   "cell_type": "markdown",
   "id": "65ab11be",
   "metadata": {},
   "source": [
    "#### =============================================================================================================="
   ]
  },
  {
   "cell_type": "code",
   "execution_count": 68,
   "id": "ef5917e5",
   "metadata": {},
   "outputs": [],
   "source": [
    "import warnings\n",
    "warnings.filterwarnings('ignore')\n",
    "\n",
    "# importing modules and packages\n",
    "import pandas as pd\n",
    "import numpy as np\n",
    "import matplotlib.pyplot as plt\n",
    "from sklearn.model_selection import train_test_split\n",
    "from sklearn.preprocessing import StandardScaler\n",
    "from sklearn.linear_model import LogisticRegression\n",
    "from sklearn.metrics import accuracy_score\n",
    "import pandas as pd\n",
    "import tensorflow as tf\n",
    "from pathlib import Path\n",
    "from sklearn import preprocessing\n",
    "from sklearn.ensemble import RandomForestClassifier\n",
    "from sklearn.svm import SVC\n",
    "from sklearn.ensemble import GradientBoostingClassifier"
   ]
  },
  {
   "cell_type": "code",
   "execution_count": 69,
   "id": "32355b65",
   "metadata": {
    "scrolled": true
   },
   "outputs": [
    {
     "data": {
      "text/html": [
       "<div>\n",
       "<style scoped>\n",
       "    .dataframe tbody tr th:only-of-type {\n",
       "        vertical-align: middle;\n",
       "    }\n",
       "\n",
       "    .dataframe tbody tr th {\n",
       "        vertical-align: top;\n",
       "    }\n",
       "\n",
       "    .dataframe thead th {\n",
       "        text-align: right;\n",
       "    }\n",
       "</style>\n",
       "<table border=\"1\" class=\"dataframe\">\n",
       "  <thead>\n",
       "    <tr style=\"text-align: right;\">\n",
       "      <th></th>\n",
       "      <th>USMER</th>\n",
       "      <th>MEDICAL_UNIT</th>\n",
       "      <th>SEX</th>\n",
       "      <th>PATIENT_TYPE</th>\n",
       "      <th>DATE_DIED</th>\n",
       "      <th>INTUBED</th>\n",
       "      <th>PNEUMONIA</th>\n",
       "      <th>AGE</th>\n",
       "      <th>PREGNANT</th>\n",
       "      <th>DIABETES</th>\n",
       "      <th>...</th>\n",
       "      <th>ASTHMA</th>\n",
       "      <th>INMSUPR</th>\n",
       "      <th>HIPERTENSION</th>\n",
       "      <th>OTHER_DISEASE</th>\n",
       "      <th>CARDIOVASCULAR</th>\n",
       "      <th>OBESITY</th>\n",
       "      <th>RENAL_CHRONIC</th>\n",
       "      <th>TOBACCO</th>\n",
       "      <th>CLASIFFICATION_FINAL</th>\n",
       "      <th>ICU</th>\n",
       "    </tr>\n",
       "  </thead>\n",
       "  <tbody>\n",
       "    <tr>\n",
       "      <th>0</th>\n",
       "      <td>2</td>\n",
       "      <td>1</td>\n",
       "      <td>1</td>\n",
       "      <td>1</td>\n",
       "      <td>03/05/2020</td>\n",
       "      <td>97</td>\n",
       "      <td>1</td>\n",
       "      <td>65</td>\n",
       "      <td>2</td>\n",
       "      <td>2</td>\n",
       "      <td>...</td>\n",
       "      <td>2</td>\n",
       "      <td>2</td>\n",
       "      <td>1</td>\n",
       "      <td>2</td>\n",
       "      <td>2</td>\n",
       "      <td>2</td>\n",
       "      <td>2</td>\n",
       "      <td>2</td>\n",
       "      <td>3</td>\n",
       "      <td>97</td>\n",
       "    </tr>\n",
       "    <tr>\n",
       "      <th>1</th>\n",
       "      <td>2</td>\n",
       "      <td>1</td>\n",
       "      <td>2</td>\n",
       "      <td>1</td>\n",
       "      <td>03/06/2020</td>\n",
       "      <td>97</td>\n",
       "      <td>1</td>\n",
       "      <td>72</td>\n",
       "      <td>97</td>\n",
       "      <td>2</td>\n",
       "      <td>...</td>\n",
       "      <td>2</td>\n",
       "      <td>2</td>\n",
       "      <td>1</td>\n",
       "      <td>2</td>\n",
       "      <td>2</td>\n",
       "      <td>1</td>\n",
       "      <td>1</td>\n",
       "      <td>2</td>\n",
       "      <td>5</td>\n",
       "      <td>97</td>\n",
       "    </tr>\n",
       "    <tr>\n",
       "      <th>2</th>\n",
       "      <td>2</td>\n",
       "      <td>1</td>\n",
       "      <td>2</td>\n",
       "      <td>2</td>\n",
       "      <td>09/06/2020</td>\n",
       "      <td>1</td>\n",
       "      <td>2</td>\n",
       "      <td>55</td>\n",
       "      <td>97</td>\n",
       "      <td>1</td>\n",
       "      <td>...</td>\n",
       "      <td>2</td>\n",
       "      <td>2</td>\n",
       "      <td>2</td>\n",
       "      <td>2</td>\n",
       "      <td>2</td>\n",
       "      <td>2</td>\n",
       "      <td>2</td>\n",
       "      <td>2</td>\n",
       "      <td>3</td>\n",
       "      <td>2</td>\n",
       "    </tr>\n",
       "    <tr>\n",
       "      <th>3</th>\n",
       "      <td>2</td>\n",
       "      <td>1</td>\n",
       "      <td>1</td>\n",
       "      <td>1</td>\n",
       "      <td>12/06/2020</td>\n",
       "      <td>97</td>\n",
       "      <td>2</td>\n",
       "      <td>53</td>\n",
       "      <td>2</td>\n",
       "      <td>2</td>\n",
       "      <td>...</td>\n",
       "      <td>2</td>\n",
       "      <td>2</td>\n",
       "      <td>2</td>\n",
       "      <td>2</td>\n",
       "      <td>2</td>\n",
       "      <td>2</td>\n",
       "      <td>2</td>\n",
       "      <td>2</td>\n",
       "      <td>7</td>\n",
       "      <td>97</td>\n",
       "    </tr>\n",
       "    <tr>\n",
       "      <th>4</th>\n",
       "      <td>2</td>\n",
       "      <td>1</td>\n",
       "      <td>2</td>\n",
       "      <td>1</td>\n",
       "      <td>21/06/2020</td>\n",
       "      <td>97</td>\n",
       "      <td>2</td>\n",
       "      <td>68</td>\n",
       "      <td>97</td>\n",
       "      <td>1</td>\n",
       "      <td>...</td>\n",
       "      <td>2</td>\n",
       "      <td>2</td>\n",
       "      <td>1</td>\n",
       "      <td>2</td>\n",
       "      <td>2</td>\n",
       "      <td>2</td>\n",
       "      <td>2</td>\n",
       "      <td>2</td>\n",
       "      <td>3</td>\n",
       "      <td>97</td>\n",
       "    </tr>\n",
       "  </tbody>\n",
       "</table>\n",
       "<p>5 rows × 21 columns</p>\n",
       "</div>"
      ],
      "text/plain": [
       "   USMER  MEDICAL_UNIT  SEX  PATIENT_TYPE   DATE_DIED  INTUBED  PNEUMONIA  \\\n",
       "0      2             1    1             1  03/05/2020       97          1   \n",
       "1      2             1    2             1  03/06/2020       97          1   \n",
       "2      2             1    2             2  09/06/2020        1          2   \n",
       "3      2             1    1             1  12/06/2020       97          2   \n",
       "4      2             1    2             1  21/06/2020       97          2   \n",
       "\n",
       "   AGE  PREGNANT  DIABETES  ...  ASTHMA  INMSUPR  HIPERTENSION  OTHER_DISEASE  \\\n",
       "0   65         2         2  ...       2        2             1              2   \n",
       "1   72        97         2  ...       2        2             1              2   \n",
       "2   55        97         1  ...       2        2             2              2   \n",
       "3   53         2         2  ...       2        2             2              2   \n",
       "4   68        97         1  ...       2        2             1              2   \n",
       "\n",
       "   CARDIOVASCULAR  OBESITY  RENAL_CHRONIC  TOBACCO  CLASIFFICATION_FINAL  ICU  \n",
       "0               2        2              2        2                     3   97  \n",
       "1               2        1              1        2                     5   97  \n",
       "2               2        2              2        2                     3    2  \n",
       "3               2        2              2        2                     7   97  \n",
       "4               2        2              2        2                     3   97  \n",
       "\n",
       "[5 rows x 21 columns]"
      ]
     },
     "execution_count": 69,
     "metadata": {},
     "output_type": "execute_result"
    }
   ],
   "source": [
    "covid_df = pd.read_csv(Path('Covid_Data.csv'))\n",
    "covid_df.head()"
   ]
  },
  {
   "cell_type": "code",
   "execution_count": 70,
   "id": "f844937e",
   "metadata": {},
   "outputs": [
    {
     "data": {
      "text/html": [
       "<div>\n",
       "<style scoped>\n",
       "    .dataframe tbody tr th:only-of-type {\n",
       "        vertical-align: middle;\n",
       "    }\n",
       "\n",
       "    .dataframe tbody tr th {\n",
       "        vertical-align: top;\n",
       "    }\n",
       "\n",
       "    .dataframe thead th {\n",
       "        text-align: right;\n",
       "    }\n",
       "</style>\n",
       "<table border=\"1\" class=\"dataframe\">\n",
       "  <thead>\n",
       "    <tr style=\"text-align: right;\">\n",
       "      <th></th>\n",
       "      <th>USMER</th>\n",
       "      <th>MEDICAL_UNIT</th>\n",
       "      <th>SEX</th>\n",
       "      <th>PATIENT_TYPE</th>\n",
       "      <th>DATE_DIED</th>\n",
       "      <th>INTUBED</th>\n",
       "      <th>PNEUMONIA</th>\n",
       "      <th>AGE</th>\n",
       "      <th>PREGNANT</th>\n",
       "      <th>DIABETES</th>\n",
       "      <th>...</th>\n",
       "      <th>ASTHMA</th>\n",
       "      <th>INMSUPR</th>\n",
       "      <th>HIPERTENSION</th>\n",
       "      <th>OTHER_DISEASE</th>\n",
       "      <th>CARDIOVASCULAR</th>\n",
       "      <th>OBESITY</th>\n",
       "      <th>RENAL_CHRONIC</th>\n",
       "      <th>TOBACCO</th>\n",
       "      <th>CLASIFFICATION_FINAL</th>\n",
       "      <th>ICU</th>\n",
       "    </tr>\n",
       "  </thead>\n",
       "  <tbody>\n",
       "    <tr>\n",
       "      <th>0</th>\n",
       "      <td>2</td>\n",
       "      <td>1</td>\n",
       "      <td>1</td>\n",
       "      <td>1</td>\n",
       "      <td>1</td>\n",
       "      <td>97</td>\n",
       "      <td>1</td>\n",
       "      <td>65</td>\n",
       "      <td>2</td>\n",
       "      <td>2</td>\n",
       "      <td>...</td>\n",
       "      <td>2</td>\n",
       "      <td>2</td>\n",
       "      <td>1</td>\n",
       "      <td>2</td>\n",
       "      <td>2</td>\n",
       "      <td>2</td>\n",
       "      <td>2</td>\n",
       "      <td>2</td>\n",
       "      <td>3</td>\n",
       "      <td>97</td>\n",
       "    </tr>\n",
       "    <tr>\n",
       "      <th>1</th>\n",
       "      <td>2</td>\n",
       "      <td>1</td>\n",
       "      <td>2</td>\n",
       "      <td>1</td>\n",
       "      <td>1</td>\n",
       "      <td>97</td>\n",
       "      <td>1</td>\n",
       "      <td>72</td>\n",
       "      <td>97</td>\n",
       "      <td>2</td>\n",
       "      <td>...</td>\n",
       "      <td>2</td>\n",
       "      <td>2</td>\n",
       "      <td>1</td>\n",
       "      <td>2</td>\n",
       "      <td>2</td>\n",
       "      <td>1</td>\n",
       "      <td>1</td>\n",
       "      <td>2</td>\n",
       "      <td>5</td>\n",
       "      <td>97</td>\n",
       "    </tr>\n",
       "    <tr>\n",
       "      <th>2</th>\n",
       "      <td>2</td>\n",
       "      <td>1</td>\n",
       "      <td>2</td>\n",
       "      <td>2</td>\n",
       "      <td>1</td>\n",
       "      <td>1</td>\n",
       "      <td>2</td>\n",
       "      <td>55</td>\n",
       "      <td>97</td>\n",
       "      <td>1</td>\n",
       "      <td>...</td>\n",
       "      <td>2</td>\n",
       "      <td>2</td>\n",
       "      <td>2</td>\n",
       "      <td>2</td>\n",
       "      <td>2</td>\n",
       "      <td>2</td>\n",
       "      <td>2</td>\n",
       "      <td>2</td>\n",
       "      <td>3</td>\n",
       "      <td>2</td>\n",
       "    </tr>\n",
       "    <tr>\n",
       "      <th>3</th>\n",
       "      <td>2</td>\n",
       "      <td>1</td>\n",
       "      <td>1</td>\n",
       "      <td>1</td>\n",
       "      <td>1</td>\n",
       "      <td>97</td>\n",
       "      <td>2</td>\n",
       "      <td>53</td>\n",
       "      <td>2</td>\n",
       "      <td>2</td>\n",
       "      <td>...</td>\n",
       "      <td>2</td>\n",
       "      <td>2</td>\n",
       "      <td>2</td>\n",
       "      <td>2</td>\n",
       "      <td>2</td>\n",
       "      <td>2</td>\n",
       "      <td>2</td>\n",
       "      <td>2</td>\n",
       "      <td>7</td>\n",
       "      <td>97</td>\n",
       "    </tr>\n",
       "    <tr>\n",
       "      <th>4</th>\n",
       "      <td>2</td>\n",
       "      <td>1</td>\n",
       "      <td>2</td>\n",
       "      <td>1</td>\n",
       "      <td>1</td>\n",
       "      <td>97</td>\n",
       "      <td>2</td>\n",
       "      <td>68</td>\n",
       "      <td>97</td>\n",
       "      <td>1</td>\n",
       "      <td>...</td>\n",
       "      <td>2</td>\n",
       "      <td>2</td>\n",
       "      <td>1</td>\n",
       "      <td>2</td>\n",
       "      <td>2</td>\n",
       "      <td>2</td>\n",
       "      <td>2</td>\n",
       "      <td>2</td>\n",
       "      <td>3</td>\n",
       "      <td>97</td>\n",
       "    </tr>\n",
       "    <tr>\n",
       "      <th>...</th>\n",
       "      <td>...</td>\n",
       "      <td>...</td>\n",
       "      <td>...</td>\n",
       "      <td>...</td>\n",
       "      <td>...</td>\n",
       "      <td>...</td>\n",
       "      <td>...</td>\n",
       "      <td>...</td>\n",
       "      <td>...</td>\n",
       "      <td>...</td>\n",
       "      <td>...</td>\n",
       "      <td>...</td>\n",
       "      <td>...</td>\n",
       "      <td>...</td>\n",
       "      <td>...</td>\n",
       "      <td>...</td>\n",
       "      <td>...</td>\n",
       "      <td>...</td>\n",
       "      <td>...</td>\n",
       "      <td>...</td>\n",
       "      <td>...</td>\n",
       "    </tr>\n",
       "    <tr>\n",
       "      <th>1048570</th>\n",
       "      <td>2</td>\n",
       "      <td>13</td>\n",
       "      <td>2</td>\n",
       "      <td>1</td>\n",
       "      <td>0</td>\n",
       "      <td>97</td>\n",
       "      <td>2</td>\n",
       "      <td>40</td>\n",
       "      <td>97</td>\n",
       "      <td>2</td>\n",
       "      <td>...</td>\n",
       "      <td>2</td>\n",
       "      <td>2</td>\n",
       "      <td>2</td>\n",
       "      <td>2</td>\n",
       "      <td>2</td>\n",
       "      <td>2</td>\n",
       "      <td>2</td>\n",
       "      <td>2</td>\n",
       "      <td>7</td>\n",
       "      <td>97</td>\n",
       "    </tr>\n",
       "    <tr>\n",
       "      <th>1048571</th>\n",
       "      <td>1</td>\n",
       "      <td>13</td>\n",
       "      <td>2</td>\n",
       "      <td>2</td>\n",
       "      <td>0</td>\n",
       "      <td>2</td>\n",
       "      <td>2</td>\n",
       "      <td>51</td>\n",
       "      <td>97</td>\n",
       "      <td>2</td>\n",
       "      <td>...</td>\n",
       "      <td>2</td>\n",
       "      <td>2</td>\n",
       "      <td>1</td>\n",
       "      <td>2</td>\n",
       "      <td>2</td>\n",
       "      <td>2</td>\n",
       "      <td>2</td>\n",
       "      <td>2</td>\n",
       "      <td>7</td>\n",
       "      <td>2</td>\n",
       "    </tr>\n",
       "    <tr>\n",
       "      <th>1048572</th>\n",
       "      <td>2</td>\n",
       "      <td>13</td>\n",
       "      <td>2</td>\n",
       "      <td>1</td>\n",
       "      <td>0</td>\n",
       "      <td>97</td>\n",
       "      <td>2</td>\n",
       "      <td>55</td>\n",
       "      <td>97</td>\n",
       "      <td>2</td>\n",
       "      <td>...</td>\n",
       "      <td>2</td>\n",
       "      <td>2</td>\n",
       "      <td>2</td>\n",
       "      <td>2</td>\n",
       "      <td>2</td>\n",
       "      <td>2</td>\n",
       "      <td>2</td>\n",
       "      <td>2</td>\n",
       "      <td>7</td>\n",
       "      <td>97</td>\n",
       "    </tr>\n",
       "    <tr>\n",
       "      <th>1048573</th>\n",
       "      <td>2</td>\n",
       "      <td>13</td>\n",
       "      <td>2</td>\n",
       "      <td>1</td>\n",
       "      <td>0</td>\n",
       "      <td>97</td>\n",
       "      <td>2</td>\n",
       "      <td>28</td>\n",
       "      <td>97</td>\n",
       "      <td>2</td>\n",
       "      <td>...</td>\n",
       "      <td>2</td>\n",
       "      <td>2</td>\n",
       "      <td>2</td>\n",
       "      <td>2</td>\n",
       "      <td>2</td>\n",
       "      <td>2</td>\n",
       "      <td>2</td>\n",
       "      <td>2</td>\n",
       "      <td>7</td>\n",
       "      <td>97</td>\n",
       "    </tr>\n",
       "    <tr>\n",
       "      <th>1048574</th>\n",
       "      <td>2</td>\n",
       "      <td>13</td>\n",
       "      <td>2</td>\n",
       "      <td>1</td>\n",
       "      <td>0</td>\n",
       "      <td>97</td>\n",
       "      <td>2</td>\n",
       "      <td>52</td>\n",
       "      <td>97</td>\n",
       "      <td>2</td>\n",
       "      <td>...</td>\n",
       "      <td>2</td>\n",
       "      <td>2</td>\n",
       "      <td>2</td>\n",
       "      <td>2</td>\n",
       "      <td>2</td>\n",
       "      <td>2</td>\n",
       "      <td>2</td>\n",
       "      <td>2</td>\n",
       "      <td>7</td>\n",
       "      <td>97</td>\n",
       "    </tr>\n",
       "  </tbody>\n",
       "</table>\n",
       "<p>1048575 rows × 21 columns</p>\n",
       "</div>"
      ],
      "text/plain": [
       "         USMER  MEDICAL_UNIT  SEX  PATIENT_TYPE DATE_DIED  INTUBED  PNEUMONIA  \\\n",
       "0            2             1    1             1         1       97          1   \n",
       "1            2             1    2             1         1       97          1   \n",
       "2            2             1    2             2         1        1          2   \n",
       "3            2             1    1             1         1       97          2   \n",
       "4            2             1    2             1         1       97          2   \n",
       "...        ...           ...  ...           ...       ...      ...        ...   \n",
       "1048570      2            13    2             1         0       97          2   \n",
       "1048571      1            13    2             2         0        2          2   \n",
       "1048572      2            13    2             1         0       97          2   \n",
       "1048573      2            13    2             1         0       97          2   \n",
       "1048574      2            13    2             1         0       97          2   \n",
       "\n",
       "         AGE  PREGNANT  DIABETES  ...  ASTHMA  INMSUPR  HIPERTENSION  \\\n",
       "0         65         2         2  ...       2        2             1   \n",
       "1         72        97         2  ...       2        2             1   \n",
       "2         55        97         1  ...       2        2             2   \n",
       "3         53         2         2  ...       2        2             2   \n",
       "4         68        97         1  ...       2        2             1   \n",
       "...      ...       ...       ...  ...     ...      ...           ...   \n",
       "1048570   40        97         2  ...       2        2             2   \n",
       "1048571   51        97         2  ...       2        2             1   \n",
       "1048572   55        97         2  ...       2        2             2   \n",
       "1048573   28        97         2  ...       2        2             2   \n",
       "1048574   52        97         2  ...       2        2             2   \n",
       "\n",
       "         OTHER_DISEASE  CARDIOVASCULAR  OBESITY  RENAL_CHRONIC  TOBACCO  \\\n",
       "0                    2               2        2              2        2   \n",
       "1                    2               2        1              1        2   \n",
       "2                    2               2        2              2        2   \n",
       "3                    2               2        2              2        2   \n",
       "4                    2               2        2              2        2   \n",
       "...                ...             ...      ...            ...      ...   \n",
       "1048570              2               2        2              2        2   \n",
       "1048571              2               2        2              2        2   \n",
       "1048572              2               2        2              2        2   \n",
       "1048573              2               2        2              2        2   \n",
       "1048574              2               2        2              2        2   \n",
       "\n",
       "         CLASIFFICATION_FINAL  ICU  \n",
       "0                           3   97  \n",
       "1                           5   97  \n",
       "2                           3    2  \n",
       "3                           7   97  \n",
       "4                           3   97  \n",
       "...                       ...  ...  \n",
       "1048570                     7   97  \n",
       "1048571                     7    2  \n",
       "1048572                     7   97  \n",
       "1048573                     7   97  \n",
       "1048574                     7   97  \n",
       "\n",
       "[1048575 rows x 21 columns]"
      ]
     },
     "execution_count": 70,
     "metadata": {},
     "output_type": "execute_result"
    }
   ],
   "source": [
    "# Applying the condition-Outcome column\n",
    "covid_df['DATE_DIED'] = ['0' if DATE_DIED == '9999-99-99' else '1' for DATE_DIED in covid_df['DATE_DIED']]\n",
    "covid_df"
   ]
  },
  {
   "cell_type": "code",
   "execution_count": 71,
   "id": "2e38919d",
   "metadata": {
    "scrolled": true
   },
   "outputs": [
    {
     "data": {
      "text/plain": [
       "['DATE_DIED']"
      ]
     },
     "execution_count": 71,
     "metadata": {},
     "output_type": "execute_result"
    }
   ],
   "source": [
    "# Generate our categorical variable list\n",
    "covid_df.dtypes[covid_df.dtypes == \"object\"].index.tolist()"
   ]
  },
  {
   "cell_type": "code",
   "execution_count": 72,
   "id": "090ac85e",
   "metadata": {},
   "outputs": [],
   "source": [
    "# Drop NA values(values>2)and column with too much missing values\n",
    "covid_df = covid_df.drop(covid_df[covid_df[\"PREGNANT\"] > 2].index)\n",
    "covid_df = covid_df.drop(covid_df[covid_df[\"CLASIFFICATION_FINAL\"] >= 4].index)"
   ]
  },
  {
   "cell_type": "code",
   "execution_count": 73,
   "id": "af8218f6",
   "metadata": {},
   "outputs": [],
   "source": [
    "# Feature grouping \n",
    "#covid_df = covid_df.drop([\"PNEUMONIA\",\"COPD\",\"ASTHMA\",\"CARDIOVASCULAR\"], axis = 1)\n",
    "#covid_df = covid_df.drop([\"INMSUPR\",\"HIPERTENSION\",\"RENAL_CHRONIC\",\"DIABETES\",\"OTHER_DISEASE\"], axis = 1)\n",
    "#covid_df = covid_df.drop([\"SEX\",\"AGE\",\"PREGNANT\",\"TOBACCO\",\"CLASIFFICATION_FINAL\"], axis = 1)"
   ]
  },
  {
   "cell_type": "code",
   "execution_count": 74,
   "id": "76a74408",
   "metadata": {},
   "outputs": [
    {
     "data": {
      "text/html": [
       "<div>\n",
       "<style scoped>\n",
       "    .dataframe tbody tr th:only-of-type {\n",
       "        vertical-align: middle;\n",
       "    }\n",
       "\n",
       "    .dataframe tbody tr th {\n",
       "        vertical-align: top;\n",
       "    }\n",
       "\n",
       "    .dataframe thead th {\n",
       "        text-align: right;\n",
       "    }\n",
       "</style>\n",
       "<table border=\"1\" class=\"dataframe\">\n",
       "  <thead>\n",
       "    <tr style=\"text-align: right;\">\n",
       "      <th></th>\n",
       "      <th>SEX</th>\n",
       "      <th>DATE_DIED</th>\n",
       "      <th>AGE</th>\n",
       "      <th>PREGNANT</th>\n",
       "      <th>OBESITY</th>\n",
       "      <th>TOBACCO</th>\n",
       "      <th>CLASIFFICATION_FINAL</th>\n",
       "    </tr>\n",
       "  </thead>\n",
       "  <tbody>\n",
       "    <tr>\n",
       "      <th>0</th>\n",
       "      <td>1</td>\n",
       "      <td>1</td>\n",
       "      <td>65</td>\n",
       "      <td>2</td>\n",
       "      <td>2</td>\n",
       "      <td>2</td>\n",
       "      <td>3</td>\n",
       "    </tr>\n",
       "    <tr>\n",
       "      <th>5</th>\n",
       "      <td>1</td>\n",
       "      <td>0</td>\n",
       "      <td>40</td>\n",
       "      <td>2</td>\n",
       "      <td>2</td>\n",
       "      <td>2</td>\n",
       "      <td>3</td>\n",
       "    </tr>\n",
       "    <tr>\n",
       "      <th>6</th>\n",
       "      <td>1</td>\n",
       "      <td>0</td>\n",
       "      <td>64</td>\n",
       "      <td>2</td>\n",
       "      <td>2</td>\n",
       "      <td>2</td>\n",
       "      <td>3</td>\n",
       "    </tr>\n",
       "    <tr>\n",
       "      <th>7</th>\n",
       "      <td>1</td>\n",
       "      <td>0</td>\n",
       "      <td>64</td>\n",
       "      <td>2</td>\n",
       "      <td>2</td>\n",
       "      <td>2</td>\n",
       "      <td>3</td>\n",
       "    </tr>\n",
       "    <tr>\n",
       "      <th>8</th>\n",
       "      <td>1</td>\n",
       "      <td>0</td>\n",
       "      <td>37</td>\n",
       "      <td>2</td>\n",
       "      <td>1</td>\n",
       "      <td>2</td>\n",
       "      <td>3</td>\n",
       "    </tr>\n",
       "    <tr>\n",
       "      <th>...</th>\n",
       "      <td>...</td>\n",
       "      <td>...</td>\n",
       "      <td>...</td>\n",
       "      <td>...</td>\n",
       "      <td>...</td>\n",
       "      <td>...</td>\n",
       "      <td>...</td>\n",
       "    </tr>\n",
       "    <tr>\n",
       "      <th>1047931</th>\n",
       "      <td>1</td>\n",
       "      <td>0</td>\n",
       "      <td>48</td>\n",
       "      <td>2</td>\n",
       "      <td>1</td>\n",
       "      <td>2</td>\n",
       "      <td>3</td>\n",
       "    </tr>\n",
       "    <tr>\n",
       "      <th>1047932</th>\n",
       "      <td>1</td>\n",
       "      <td>0</td>\n",
       "      <td>67</td>\n",
       "      <td>2</td>\n",
       "      <td>2</td>\n",
       "      <td>2</td>\n",
       "      <td>3</td>\n",
       "    </tr>\n",
       "    <tr>\n",
       "      <th>1047933</th>\n",
       "      <td>1</td>\n",
       "      <td>0</td>\n",
       "      <td>77</td>\n",
       "      <td>2</td>\n",
       "      <td>2</td>\n",
       "      <td>2</td>\n",
       "      <td>3</td>\n",
       "    </tr>\n",
       "    <tr>\n",
       "      <th>1047934</th>\n",
       "      <td>1</td>\n",
       "      <td>0</td>\n",
       "      <td>55</td>\n",
       "      <td>2</td>\n",
       "      <td>2</td>\n",
       "      <td>2</td>\n",
       "      <td>3</td>\n",
       "    </tr>\n",
       "    <tr>\n",
       "      <th>1047937</th>\n",
       "      <td>1</td>\n",
       "      <td>0</td>\n",
       "      <td>30</td>\n",
       "      <td>2</td>\n",
       "      <td>2</td>\n",
       "      <td>2</td>\n",
       "      <td>3</td>\n",
       "    </tr>\n",
       "  </tbody>\n",
       "</table>\n",
       "<p>181107 rows × 7 columns</p>\n",
       "</div>"
      ],
      "text/plain": [
       "         SEX DATE_DIED  AGE  PREGNANT  OBESITY  TOBACCO  CLASIFFICATION_FINAL\n",
       "0          1         1   65         2        2        2                     3\n",
       "5          1         0   40         2        2        2                     3\n",
       "6          1         0   64         2        2        2                     3\n",
       "7          1         0   64         2        2        2                     3\n",
       "8          1         0   37         2        1        2                     3\n",
       "...      ...       ...  ...       ...      ...      ...                   ...\n",
       "1047931    1         0   48         2        1        2                     3\n",
       "1047932    1         0   67         2        2        2                     3\n",
       "1047933    1         0   77         2        2        2                     3\n",
       "1047934    1         0   55         2        2        2                     3\n",
       "1047937    1         0   30         2        2        2                     3\n",
       "\n",
       "[181107 rows x 7 columns]"
      ]
     },
     "execution_count": 74,
     "metadata": {},
     "output_type": "execute_result"
    }
   ],
   "source": [
    "# Drop features with least importance\n",
    "covid_df = covid_df.drop([\"INTUBED\",\"ICU\",\"MEDICAL_UNIT\",\"USMER\",\"PATIENT_TYPE\"], axis = 1)\n",
    "covid_df"
   ]
  },
  {
   "cell_type": "code",
   "execution_count": 75,
   "id": "fd344a2b",
   "metadata": {},
   "outputs": [
    {
     "data": {
      "text/plain": [
       "array(['SEX', 'DATE_DIED', 'AGE', 'PREGNANT', 'OBESITY', 'TOBACCO',\n",
       "       'CLASIFFICATION_FINAL'], dtype=object)"
      ]
     },
     "execution_count": 75,
     "metadata": {},
     "output_type": "execute_result"
    }
   ],
   "source": [
    "# Column values\n",
    "covid_df.columns.values "
   ]
  },
  {
   "cell_type": "code",
   "execution_count": 76,
   "id": "23d435eb",
   "metadata": {},
   "outputs": [
    {
     "data": {
      "text/plain": [
       "SEX                      int64\n",
       "DATE_DIED               object\n",
       "AGE                      int64\n",
       "PREGNANT                 int64\n",
       "OBESITY                  int64\n",
       "TOBACCO                  int64\n",
       "CLASIFFICATION_FINAL     int64\n",
       "dtype: object"
      ]
     },
     "execution_count": 76,
     "metadata": {},
     "output_type": "execute_result"
    }
   ],
   "source": [
    "# checking the dtypes\n",
    "covid_df.dtypes"
   ]
  },
  {
   "cell_type": "code",
   "execution_count": 77,
   "id": "c52c5482",
   "metadata": {},
   "outputs": [],
   "source": [
    "# 'object' to 'int' type. \n",
    "covid_df['DATE_DIED'] = covid_df['DATE_DIED'].astype(int)"
   ]
  },
  {
   "cell_type": "code",
   "execution_count": 78,
   "id": "4ea6f67c",
   "metadata": {
    "scrolled": false
   },
   "outputs": [],
   "source": [
    "# Remove COVID death/fatality outcome target from features data\n",
    "y = covid_df.DATE_DIED\n",
    "X = covid_df.drop(columns=\"DATE_DIED\")"
   ]
  },
  {
   "cell_type": "code",
   "execution_count": 79,
   "id": "027c7571",
   "metadata": {},
   "outputs": [
    {
     "data": {
      "text/plain": [
       "(181107, 6)"
      ]
     },
     "execution_count": 79,
     "metadata": {},
     "output_type": "execute_result"
    }
   ],
   "source": [
    "X.shape"
   ]
  },
  {
   "cell_type": "code",
   "execution_count": 80,
   "id": "fe864dab",
   "metadata": {},
   "outputs": [],
   "source": [
    "# Split training/test datasets\n",
    "X_train, X_test, y_train, y_test = train_test_split(X, y, random_state=42, stratify=y)"
   ]
  },
  {
   "cell_type": "code",
   "execution_count": 81,
   "id": "d77b6822",
   "metadata": {},
   "outputs": [
    {
     "data": {
      "text/plain": [
       "StandardScaler()"
      ]
     },
     "execution_count": 81,
     "metadata": {},
     "output_type": "execute_result"
    }
   ],
   "source": [
    "# Create a StandardScaler instance\n",
    "scaler = preprocessing.StandardScaler().fit(X_train)\n",
    "scaler"
   ]
  },
  {
   "cell_type": "code",
   "execution_count": 82,
   "id": "c45c04d7",
   "metadata": {},
   "outputs": [
    {
     "data": {
      "text/plain": [
       "array([ 1.        , 44.4529559 ,  1.98485607,  2.02548038,  2.18468674,\n",
       "        2.95176323])"
      ]
     },
     "execution_count": 82,
     "metadata": {},
     "output_type": "execute_result"
    }
   ],
   "source": [
    "scaler.mean_"
   ]
  },
  {
   "cell_type": "code",
   "execution_count": 83,
   "id": "b7210458",
   "metadata": {},
   "outputs": [],
   "source": [
    "# Fit the StandardScaler\n",
    "X_scaler = scaler.fit(X_train)\n",
    "\n",
    "# Scale the data\n",
    "X_train_scaled = X_scaler.transform(X_train)\n",
    "X_test_scaled = X_scaler.transform(X_test)"
   ]
  },
  {
   "cell_type": "markdown",
   "id": "926dea7f",
   "metadata": {},
   "source": [
    "## Logistic Regression"
   ]
  },
  {
   "cell_type": "code",
   "execution_count": 84,
   "id": "15b6c298",
   "metadata": {},
   "outputs": [],
   "source": [
    "# Define the logistic regression model\n",
    "log_classifier = LogisticRegression(solver=\"lbfgs\",max_iter=200)"
   ]
  },
  {
   "cell_type": "markdown",
   "id": "9b6bd82c",
   "metadata": {},
   "source": [
    "#### Note:\n",
    "* The solver parameter is set to 'lbfgs', which is an algorithm for learning and optimization. The particular solver isn't very important in this example, but note that a number of optimizers exist.\n",
    "* The max_iter parameter will be set to 1000 iterations, which will give the model sufficient opportunity to converge on effective weights"
   ]
  },
  {
   "cell_type": "code",
   "execution_count": 85,
   "id": "f2ddc50a",
   "metadata": {},
   "outputs": [
    {
     "name": "stdout",
     "output_type": "stream",
     "text": [
      " Logistic regression model accuracy: 0.894\n"
     ]
    }
   ],
   "source": [
    "# Train the model\n",
    "log_classifier.fit(X_train,y_train)\n",
    "\n",
    "# Evaluate the model\n",
    "y_pred = log_classifier.predict(X_test)\n",
    "print(f\" Logistic regression model accuracy: {accuracy_score(y_test,y_pred):.3f}\")"
   ]
  },
  {
   "cell_type": "markdown",
   "id": "015ec7aa",
   "metadata": {},
   "source": [
    "#### Interpretation:\n",
    "* Logistic model able to predict correctly whether or not a person with the  underline diseases 98.7% of the time will have a high risk of developing sever COVID which leads ultimately to fatality."
   ]
  },
  {
   "cell_type": "markdown",
   "id": "04f7d3de",
   "metadata": {},
   "source": [
    "## Random Forest "
   ]
  },
  {
   "cell_type": "code",
   "execution_count": 86,
   "id": "a5e56271",
   "metadata": {},
   "outputs": [],
   "source": [
    "# Create a random forest classifier.\n",
    "rf_model = RandomForestClassifier(n_estimators=128, random_state=78)\n",
    "\n",
    "# Fitting the model\n",
    "rf_model = rf_model.fit(X_train_scaled, y_train)"
   ]
  },
  {
   "cell_type": "code",
   "execution_count": 87,
   "id": "ffc8f879",
   "metadata": {},
   "outputs": [
    {
     "name": "stdout",
     "output_type": "stream",
     "text": [
      " Random forest predictive accuracy: 0.899\n"
     ]
    }
   ],
   "source": [
    "# Evaluate the model\n",
    "y_pred = rf_model.predict(X_test_scaled)\n",
    "print(f\" Random forest predictive accuracy: {accuracy_score(y_test,y_pred):.3f}\")"
   ]
  },
  {
   "cell_type": "markdown",
   "id": "2e75c3eb",
   "metadata": {},
   "source": [
    "#### Interpretation:\n",
    "* Random forest model  able to predict correctly whether or not a person with the mentioned underline diseases 98.5% of the time will have a high risk of developing sever COVID which leads ultimately to fatality."
   ]
  },
  {
   "cell_type": "markdown",
   "id": "7c8df56c",
   "metadata": {},
   "source": [
    "## Gradient Boosting Classifier"
   ]
  },
  {
   "cell_type": "code",
   "execution_count": 88,
   "id": "5cf90c1d",
   "metadata": {},
   "outputs": [],
   "source": [
    "# Choose a learning rate and create classifier\n",
    "classifier = GradientBoostingClassifier(n_estimators=20,\n",
    "                                        learning_rate=0.5,\n",
    "                                        max_features=5,\n",
    "                                        max_depth=3,\n",
    "                                        random_state=0)"
   ]
  },
  {
   "cell_type": "code",
   "execution_count": 89,
   "id": "342fdcb7",
   "metadata": {},
   "outputs": [
    {
     "data": {
      "text/plain": [
       "GradientBoostingClassifier(learning_rate=0.5, max_features=5, n_estimators=20,\n",
       "                           random_state=0)"
      ]
     },
     "execution_count": 89,
     "metadata": {},
     "output_type": "execute_result"
    }
   ],
   "source": [
    "# Fit the model\n",
    "classifier.fit(X_train_scaled, y_train)"
   ]
  },
  {
   "cell_type": "code",
   "execution_count": 90,
   "id": "4e1c83fc",
   "metadata": {},
   "outputs": [
    {
     "name": "stdout",
     "output_type": "stream",
     "text": [
      " Gradient Boosting Classifier model accuracy: 0.899\n"
     ]
    }
   ],
   "source": [
    "# Evaluate the model\n",
    "y_pred = classifier.predict(X_test_scaled)\n",
    "print(f\" Gradient Boosting Classifier model accuracy: {accuracy_score(y_test,y_pred):.3f}\")"
   ]
  },
  {
   "cell_type": "markdown",
   "id": "7fec7671",
   "metadata": {},
   "source": [
    "#### Interpretation:\n",
    "* Gradient Boosting Classifier model able to predict correctly whether or not a patient with the mentioned underline diseases, 98.7% of the time will have a high risk of developing sever COVID which leads ultimately to fatality."
   ]
  },
  {
   "cell_type": "markdown",
   "id": "1296c95d",
   "metadata": {},
   "source": [
    "## Easy Ensemble AdaBoost Classifier"
   ]
  },
  {
   "cell_type": "code",
   "execution_count": 91,
   "id": "4a8ceb38",
   "metadata": {},
   "outputs": [
    {
     "data": {
      "text/plain": [
       "EasyEnsembleClassifier(n_estimators=100, random_state=1)"
      ]
     },
     "execution_count": 91,
     "metadata": {},
     "output_type": "execute_result"
    }
   ],
   "source": [
    "# Train the EasyEnsembleClassifier\n",
    "from imblearn.ensemble import EasyEnsembleClassifier\n",
    "\n",
    "model_adb = EasyEnsembleClassifier(n_estimators=100, random_state=1) \n",
    "model_adb = model_adb.fit(X_train, y_train)\n",
    "model_adb"
   ]
  },
  {
   "cell_type": "code",
   "execution_count": 92,
   "id": "ecd4f1a4",
   "metadata": {},
   "outputs": [],
   "source": [
    "# Fitting the model with our training sets.\n",
    "model_adb = model_adb.fit(X_train, y_train)"
   ]
  },
  {
   "cell_type": "code",
   "execution_count": 93,
   "id": "c369230a",
   "metadata": {},
   "outputs": [
    {
     "name": "stdout",
     "output_type": "stream",
     "text": [
      " AdaBoost Classifier model accuracy: 0.751\n"
     ]
    }
   ],
   "source": [
    "# Evaluate the model\n",
    "y_pred = model_adb.predict(X_test)\n",
    "print(f\" AdaBoost Classifier model accuracy: {accuracy_score(y_test,y_pred):.3f}\")"
   ]
  },
  {
   "cell_type": "markdown",
   "id": "3a2098b7",
   "metadata": {},
   "source": [
    "## Support Vector Machine"
   ]
  },
  {
   "cell_type": "code",
   "execution_count": 31,
   "id": "89ba3419",
   "metadata": {},
   "outputs": [],
   "source": [
    "# Create the SVM model\n",
    "svm = SVC(kernel='linear')"
   ]
  },
  {
   "cell_type": "code",
   "execution_count": 32,
   "id": "3edb12cd",
   "metadata": {},
   "outputs": [
    {
     "data": {
      "text/plain": [
       "SVC(kernel='linear')"
      ]
     },
     "execution_count": 32,
     "metadata": {},
     "output_type": "execute_result"
    }
   ],
   "source": [
    "# Train the model\n",
    "svm.fit(X_train, y_train)"
   ]
  },
  {
   "cell_type": "code",
   "execution_count": 33,
   "id": "00b74524",
   "metadata": {},
   "outputs": [
    {
     "name": "stdout",
     "output_type": "stream",
     "text": [
      " SVM model accuracy: 0.896\n"
     ]
    }
   ],
   "source": [
    "# Evaluate the model\n",
    "y_pred = svm.predict(X_test_scaled)\n",
    "print(f\" SVM model accuracy: {accuracy_score(y_test,y_pred):.3f}\")"
   ]
  },
  {
   "cell_type": "markdown",
   "id": "e75bd3f8",
   "metadata": {},
   "source": [
    "#### Interpretation:\n",
    "* Looking at the output of our SVM model, the model was able to correctly predict  whether or not a person with the underline diseases 98.9% of the time will have a high risk of developing sever COVID which leads ultimately to fatality."
   ]
  },
  {
   "cell_type": "markdown",
   "id": "717187ae",
   "metadata": {},
   "source": [
    "## Deep Learning"
   ]
  },
  {
   "cell_type": "code",
   "execution_count": 37,
   "id": "18fb6447",
   "metadata": {},
   "outputs": [],
   "source": [
    "# Define the model - deep neural net\n",
    "number_input_features = len(X_train_scaled[0])\n",
    "hidden_nodes_layer1 = 6\n",
    "#hidden_nodes_layer2 = 6\n",
    "\n",
    "model = tf.keras.models.Sequential()\n",
    "\n",
    "# First hidden layer\n",
    "first_layer = tf.keras.layers.Dense(units=hidden_nodes_layer1, input_dim=number_input_features, activation=\"relu\")\n",
    "model.add(first_layer)\n",
    "\n",
    "\n",
    "# Second hidden layer\n",
    "#second_layer = tf.keras.layers.Dense(units=hidden_nodes_layer2, activation=\"relu\")\n",
    "#model.add(second_layer)\n",
    "\n",
    "\n",
    "# Output layer\n",
    "output_layer = tf.keras.layers.Dense(units=1, activation=\"sigmoid\")\n",
    "model.add(output_layer)\n",
    "\n",
    "# Compile the Sequential model together and customize metrics\n",
    "model.compile(loss=\"binary_crossentropy\", optimizer=\"adam\", metrics=[\"accuracy\"])"
   ]
  },
  {
   "cell_type": "code",
   "execution_count": 38,
   "id": "90a92c1f",
   "metadata": {
    "scrolled": true
   },
   "outputs": [
    {
     "name": "stdout",
     "output_type": "stream",
     "text": [
      "Epoch 1/25\n",
      "4245/4245 [==============================] - 8s 2ms/step - loss: 0.3217 - accuracy: 0.8894\n",
      "Epoch 2/25\n",
      "4245/4245 [==============================] - 7s 2ms/step - loss: 0.2406 - accuracy: 0.8955\n",
      "Epoch 3/25\n",
      "4245/4245 [==============================] - 7s 2ms/step - loss: 0.2399 - accuracy: 0.8956\n",
      "Epoch 4/25\n",
      "4245/4245 [==============================] - 8s 2ms/step - loss: 0.2394 - accuracy: 0.8956\n",
      "Epoch 5/25\n",
      "4245/4245 [==============================] - 8s 2ms/step - loss: 0.2390 - accuracy: 0.8956\n",
      "Epoch 6/25\n",
      "4245/4245 [==============================] - 8s 2ms/step - loss: 0.2385 - accuracy: 0.8956\n",
      "Epoch 7/25\n",
      "4245/4245 [==============================] - 8s 2ms/step - loss: 0.2383 - accuracy: 0.8955\n",
      "Epoch 8/25\n",
      "4245/4245 [==============================] - 8s 2ms/step - loss: 0.2382 - accuracy: 0.8956\n",
      "Epoch 9/25\n",
      "4245/4245 [==============================] - 7s 2ms/step - loss: 0.2382 - accuracy: 0.8956\n",
      "Epoch 10/25\n",
      "4245/4245 [==============================] - 7s 2ms/step - loss: 0.2381 - accuracy: 0.8956\n",
      "Epoch 11/25\n",
      "4245/4245 [==============================] - 8s 2ms/step - loss: 0.2380 - accuracy: 0.8957\n",
      "Epoch 12/25\n",
      "4245/4245 [==============================] - 6s 1ms/step - loss: 0.2381 - accuracy: 0.8956\n",
      "Epoch 13/25\n",
      "4245/4245 [==============================] - 6s 1ms/step - loss: 0.2380 - accuracy: 0.8956\n",
      "Epoch 14/25\n",
      "4245/4245 [==============================] - 6s 1ms/step - loss: 0.2380 - accuracy: 0.8956\n",
      "Epoch 15/25\n",
      "4245/4245 [==============================] - 7s 2ms/step - loss: 0.2380 - accuracy: 0.8955\n",
      "Epoch 16/25\n",
      "4245/4245 [==============================] - 6s 1ms/step - loss: 0.2380 - accuracy: 0.8956\n",
      "Epoch 17/25\n",
      "4245/4245 [==============================] - 7s 2ms/step - loss: 0.2380 - accuracy: 0.8955\n",
      "Epoch 18/25\n",
      "4245/4245 [==============================] - 6s 1ms/step - loss: 0.2381 - accuracy: 0.8956\n",
      "Epoch 19/25\n",
      "4245/4245 [==============================] - 7s 2ms/step - loss: 0.2379 - accuracy: 0.8957\n",
      "Epoch 20/25\n",
      "4245/4245 [==============================] - 7s 2ms/step - loss: 0.2379 - accuracy: 0.8957\n",
      "Epoch 21/25\n",
      "4245/4245 [==============================] - 7s 2ms/step - loss: 0.2380 - accuracy: 0.8956\n",
      "Epoch 22/25\n",
      "4245/4245 [==============================] - 8s 2ms/step - loss: 0.2380 - accuracy: 0.8956\n",
      "Epoch 23/25\n",
      "4245/4245 [==============================] - 7s 2ms/step - loss: 0.2379 - accuracy: 0.8957\n",
      "Epoch 24/25\n",
      "4245/4245 [==============================] - 7s 2ms/step - loss: 0.2379 - accuracy: 0.8957\n",
      "Epoch 25/25\n",
      "4245/4245 [==============================] - 6s 1ms/step - loss: 0.2379 - accuracy: 0.8957\n"
     ]
    }
   ],
   "source": [
    "# Train the model\n",
    "fit_model = model.fit(X_train_scaled, y_train, epochs=25)"
   ]
  },
  {
   "cell_type": "code",
   "execution_count": 39,
   "id": "5a145eb0",
   "metadata": {
    "scrolled": true
   },
   "outputs": [
    {
     "name": "stdout",
     "output_type": "stream",
     "text": [
      "1415/1415 - 2s - loss: 0.2387 - accuracy: 0.8958 - 2s/epoch - 2ms/step\n",
      "Loss: 0.23869368433952332, Accuracy: 0.8957969546318054\n"
     ]
    }
   ],
   "source": [
    "# Evaluate the model using the test data\n",
    "model_loss, model_accuracy = model.evaluate(X_test_scaled,y_test,verbose=2)\n",
    "print(f\"Loss: {model_loss}, Accuracy: {model_accuracy}\")"
   ]
  },
  {
   "cell_type": "markdown",
   "id": "ee9ac35f",
   "metadata": {},
   "source": [
    "#### ============================================================================================================="
   ]
  },
  {
   "cell_type": "markdown",
   "id": "a272c844",
   "metadata": {},
   "source": [
    "## Rank the Importance of Features"
   ]
  },
  {
   "cell_type": "code",
   "execution_count": 40,
   "id": "e446be6f",
   "metadata": {},
   "outputs": [
    {
     "data": {
      "text/plain": [
       "array([0.93361856, 0.03383446, 0.00474295, 0.01672842, 0.01107561])"
      ]
     },
     "execution_count": 40,
     "metadata": {},
     "output_type": "execute_result"
    }
   ],
   "source": [
    "# Calculate feature importance from the Random Forest model.\n",
    "importances = rf_model.feature_importances_\n",
    "importances"
   ]
  },
  {
   "cell_type": "code",
   "execution_count": 41,
   "id": "9a5e5e9a",
   "metadata": {},
   "outputs": [
    {
     "data": {
      "text/plain": [
       "[(0.9336185592611052, 'PNEUMONIA'),\n",
       " (0.03383446073762964, 'COPD'),\n",
       " (0.016728419011034914, 'CARDIOVASCULAR'),\n",
       " (0.01107560827766779, 'OBESITY'),\n",
       " (0.004742952712562405, 'ASTHMA')]"
      ]
     },
     "execution_count": 41,
     "metadata": {},
     "output_type": "execute_result"
    }
   ],
   "source": [
    "# We can sort the features by their importance.\n",
    "sorted_df = sorted(zip(rf_model.feature_importances_, X.columns), reverse=True)\n",
    "sorted_df"
   ]
  },
  {
   "cell_type": "code",
   "execution_count": 42,
   "id": "79e2f98b",
   "metadata": {},
   "outputs": [
    {
     "data": {
      "text/plain": [
       "<AxesSubplot:title={'center':'Feature importances'}>"
      ]
     },
     "execution_count": 42,
     "metadata": {},
     "output_type": "execute_result"
    },
    {
     "data": {
      "image/png": "[encoded data removed]",
      "text/plain": [
       "<Figure size 640x480 with 1 Axes>"
      ]
     },
     "metadata": {},
     "output_type": "display_data"
    }
   ],
   "source": [
    "# Plot the feature importances of the forest\n",
    "plt.title(\"Feature importances\")\n",
    "plt.yticks(fontsize=8,)\n",
    "plt.xticks(fontsize=8,)\n",
    "(pd.Series(rf_model.feature_importances_, index=X.columns)\n",
    "   .nlargest(16)\n",
    "   .plot(kind='bar')) "
   ]
  },
  {
   "cell_type": "markdown",
   "id": "98dd5009",
   "metadata": {},
   "source": [
    "#### =================================================================================================================="
   ]
  },
  {
   "cell_type": "markdown",
   "id": "69b951f5",
   "metadata": {},
   "source": [
    "### Underlying Disease-Features"
   ]
  },
  {
   "cell_type": "code",
   "execution_count": 73,
   "id": "01c6eda1",
   "metadata": {},
   "outputs": [
    {
     "data": {
      "text/plain": [
       "[(0.7009852595521454, 'PNEUMONIA'),\n",
       " (0.0992969348202316, 'DIABETES'),\n",
       " (0.09167954415419201, 'HIPERTENSION'),\n",
       " (0.03065140785688593, 'RENAL_CHRONIC'),\n",
       " (0.018929826105549143, 'COPD'),\n",
       " (0.013197112528039607, 'OBESITY'),\n",
       " (0.012992133625223848, 'OTHER_DISEASE'),\n",
       " (0.012092750664651687, 'CARDIOVASCULAR'),\n",
       " (0.010876317621527104, 'INMSUPR'),\n",
       " (0.00929871307155383, 'ASTHMA')]"
      ]
     },
     "execution_count": 73,
     "metadata": {},
     "output_type": "execute_result"
    }
   ],
   "source": [
    "# We can sort the features by their importance.\n",
    "sorted_df = sorted(zip(rf_model.feature_importances_, X.columns), reverse=True)\n",
    "sorted_df"
   ]
  },
  {
   "cell_type": "code",
   "execution_count": 74,
   "id": "23a902e0",
   "metadata": {
    "scrolled": false
   },
   "outputs": [
    {
     "data": {
      "text/plain": [
       "<AxesSubplot:title={'center':'Feature importances'}>"
      ]
     },
     "execution_count": 74,
     "metadata": {},
     "output_type": "execute_result"
    },
    {
     "data": {
      "image/png": "[encoded data removed]",
      "text/plain": [
       "<Figure size 640x480 with 1 Axes>"
      ]
     },
     "metadata": {},
     "output_type": "display_data"
    }
   ],
   "source": [
    "# Plot the feature importances of the forest\n",
    "plt.title(\"Feature importances\")\n",
    "plt.yticks(fontsize=8,)\n",
    "plt.xticks(fontsize=8,)\n",
    "(pd.Series(rf_model.feature_importances_, index=X.columns)\n",
    "   .nlargest(16)\n",
    "   .plot(kind='bar')) "
   ]
  },
  {
   "cell_type": "markdown",
   "id": "d322483f",
   "metadata": {},
   "source": [
    "#### =========================================================================================================="
   ]
  },
  {
   "cell_type": "markdown",
   "id": "64e36f36",
   "metadata": {},
   "source": [
    "### Other Features"
   ]
  },
  {
   "cell_type": "code",
   "execution_count": 94,
   "id": "ba0d3fdc",
   "metadata": {},
   "outputs": [
    {
     "data": {
      "text/plain": [
       "array([0.        , 0.8559463 , 0.00218726, 0.02723841, 0.00711513,\n",
       "       0.1075129 ])"
      ]
     },
     "execution_count": 94,
     "metadata": {},
     "output_type": "execute_result"
    }
   ],
   "source": [
    "# Calculate feature importance from the Random Forest model.\n",
    "importances = rf_model.feature_importances_\n",
    "importances"
   ]
  },
  {
   "cell_type": "code",
   "execution_count": 95,
   "id": "eda765ac",
   "metadata": {},
   "outputs": [
    {
     "data": {
      "text/plain": [
       "[(0.8559462955161016, 'AGE'),\n",
       " (0.1075129047021948, 'CLASIFFICATION_FINAL'),\n",
       " (0.027238414694141105, 'OBESITY'),\n",
       " (0.007115129880452977, 'TOBACCO'),\n",
       " (0.002187255207109451, 'PREGNANT'),\n",
       " (0.0, 'SEX')]"
      ]
     },
     "execution_count": 95,
     "metadata": {},
     "output_type": "execute_result"
    }
   ],
   "source": [
    "# We can sort the features by their importance.\n",
    "sorted_df = sorted(zip(rf_model.feature_importances_, X.columns), reverse=True)\n",
    "sorted_df"
   ]
  },
  {
   "cell_type": "code",
   "execution_count": 96,
   "id": "55196b8d",
   "metadata": {},
   "outputs": [
    {
     "data": {
      "text/plain": [
       "<AxesSubplot:title={'center':'Feature importances'}>"
      ]
     },
     "execution_count": 96,
     "metadata": {},
     "output_type": "execute_result"
    },
    {
     "data": {
      "image/png": "[encoded data removed]",
      "text/plain": [
       "<Figure size 640x480 with 1 Axes>"
      ]
     },
     "metadata": {},
     "output_type": "display_data"
    }
   ],
   "source": [
    "# Plot the feature importances of the forest\n",
    "plt.title(\"Feature importances\")\n",
    "plt.yticks(fontsize=8,)\n",
    "plt.xticks(fontsize=8,)\n",
    "(pd.Series(rf_model.feature_importances_, index=X.columns)\n",
    "   .nlargest(16)\n",
    "   .plot(kind='bar')) "
   ]
  },
  {
   "cell_type": "code",
   "execution_count": null,
   "id": "0368cefb",
   "metadata": {},
   "outputs": [],
   "source": []
  }
 ],
 "metadata": {
  "kernelspec": {
   "display_name": "mlen",
   "language": "python",
   "name": "mlen"
  },
  "language_info": {
   "codemirror_mode": {
    "name": "ipython",
    "version": 3
   },
   "file_extension": ".py",
   "mimetype": "text/x-python",
   "name": "python",
   "nbconvert_exporter": "python",
   "pygments_lexer": "ipython3",
   "version": "3.7.13"
  }
 },
 "nbformat": 4,
 "nbformat_minor": 5
}
